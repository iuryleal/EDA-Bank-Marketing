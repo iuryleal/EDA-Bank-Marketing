{
 "cells": [
  {
   "cell_type": "code",
   "execution_count": 1,
   "id": "13d20b9f-16e0-4663-84bc-7e11cf079430",
   "metadata": {},
   "outputs": [
    {
     "name": "stderr",
     "output_type": "stream",
     "text": [
      "C:\\Users\\55839\\AppData\\Local\\Temp\\ipykernel_34460\\1020607637.py:1: DeprecationWarning: \n",
      "Pyarrow will become a required dependency of pandas in the next major release of pandas (pandas 3.0),\n",
      "(to allow more performant data types, such as the Arrow string type, and better interoperability with other libraries)\n",
      "but was not found to be installed on your system.\n",
      "If this would cause problems for you,\n",
      "please provide us feedback at https://github.com/pandas-dev/pandas/issues/54466\n",
      "        \n",
      "  import pandas as pd\n"
     ]
    }
   ],
   "source": [
    "import pandas as pd\n",
    "import numpy as np\n",
    "import seaborn as sns\n",
    "import matplotlib.pyplot as plt"
   ]
  },
  {
   "cell_type": "code",
   "execution_count": 2,
   "id": "758e3be0-ce00-4d65-a38e-2fbbeb474d13",
   "metadata": {},
   "outputs": [
    {
     "data": {
      "text/html": [
       "<div>\n",
       "<style scoped>\n",
       "    .dataframe tbody tr th:only-of-type {\n",
       "        vertical-align: middle;\n",
       "    }\n",
       "\n",
       "    .dataframe tbody tr th {\n",
       "        vertical-align: top;\n",
       "    }\n",
       "\n",
       "    .dataframe thead th {\n",
       "        text-align: right;\n",
       "    }\n",
       "</style>\n",
       "<table border=\"1\" class=\"dataframe\">\n",
       "  <thead>\n",
       "    <tr style=\"text-align: right;\">\n",
       "      <th></th>\n",
       "      <th>Unnamed: 0</th>\n",
       "      <th>Unnamed: 1</th>\n",
       "      <th>Unnamed: 2</th>\n",
       "      <th>Unnamed: 3</th>\n",
       "      <th>Unnamed: 4</th>\n",
       "      <th>Unnamed: 5</th>\n",
       "      <th>Unnamed: 6</th>\n",
       "      <th>Unnamed: 7</th>\n",
       "      <th>Unnamed: 8</th>\n",
       "      <th>Unnamed: 9</th>\n",
       "      <th>Unnamed: 10</th>\n",
       "    </tr>\n",
       "  </thead>\n",
       "  <tbody>\n",
       "    <tr>\n",
       "      <th>0</th>\n",
       "      <td>NaN</td>\n",
       "      <td>Cliente_Comprou_o_Titulo?</td>\n",
       "      <td>Idade</td>\n",
       "      <td>Profissão</td>\n",
       "      <td>Estado_Civil</td>\n",
       "      <td>Formação</td>\n",
       "      <td>Cliente_Devedor?</td>\n",
       "      <td>Saldo_Conta_Corrente</td>\n",
       "      <td>Tem_Hipoteca?</td>\n",
       "      <td>Tem_Emprestimo?</td>\n",
       "      <td>Qte_de_Ligações_Feitas</td>\n",
       "    </tr>\n",
       "    <tr>\n",
       "      <th>1</th>\n",
       "      <td>NaN</td>\n",
       "      <td>Não</td>\n",
       "      <td>33</td>\n",
       "      <td>Operário</td>\n",
       "      <td>Casado</td>\n",
       "      <td>Ensino Médio</td>\n",
       "      <td>Não</td>\n",
       "      <td>263</td>\n",
       "      <td>Sim</td>\n",
       "      <td>Não</td>\n",
       "      <td>3</td>\n",
       "    </tr>\n",
       "    <tr>\n",
       "      <th>2</th>\n",
       "      <td>NaN</td>\n",
       "      <td>Não</td>\n",
       "      <td>58</td>\n",
       "      <td>Aposentado</td>\n",
       "      <td>Casado</td>\n",
       "      <td>Ensino Médio</td>\n",
       "      <td>Não</td>\n",
       "      <td>19</td>\n",
       "      <td>Não</td>\n",
       "      <td>Sim</td>\n",
       "      <td>3</td>\n",
       "    </tr>\n",
       "    <tr>\n",
       "      <th>3</th>\n",
       "      <td>NaN</td>\n",
       "      <td>Sim</td>\n",
       "      <td>83</td>\n",
       "      <td>Aposentado</td>\n",
       "      <td>Casado</td>\n",
       "      <td>Fundamental</td>\n",
       "      <td>Não</td>\n",
       "      <td>425</td>\n",
       "      <td>Não</td>\n",
       "      <td>Não</td>\n",
       "      <td>1</td>\n",
       "    </tr>\n",
       "    <tr>\n",
       "      <th>4</th>\n",
       "      <td>NaN</td>\n",
       "      <td>Sim</td>\n",
       "      <td>32</td>\n",
       "      <td>Administrador</td>\n",
       "      <td>Solteiro</td>\n",
       "      <td>Ensino Superior</td>\n",
       "      <td>Não</td>\n",
       "      <td>10281</td>\n",
       "      <td>Não</td>\n",
       "      <td>Não</td>\n",
       "      <td>1</td>\n",
       "    </tr>\n",
       "  </tbody>\n",
       "</table>\n",
       "</div>"
      ],
      "text/plain": [
       "   Unnamed: 0                 Unnamed: 1 Unnamed: 2     Unnamed: 3  \\\n",
       "0         NaN  Cliente_Comprou_o_Titulo?      Idade      Profissão   \n",
       "1         NaN                        Não         33       Operário   \n",
       "2         NaN                        Não         58     Aposentado   \n",
       "3         NaN                        Sim         83     Aposentado   \n",
       "4         NaN                        Sim         32  Administrador   \n",
       "\n",
       "     Unnamed: 4       Unnamed: 5        Unnamed: 6            Unnamed: 7  \\\n",
       "0  Estado_Civil         Formação  Cliente_Devedor?  Saldo_Conta_Corrente   \n",
       "1        Casado     Ensino Médio               Não                   263   \n",
       "2        Casado     Ensino Médio               Não                    19   \n",
       "3        Casado      Fundamental               Não                   425   \n",
       "4      Solteiro  Ensino Superior               Não                 10281   \n",
       "\n",
       "      Unnamed: 8       Unnamed: 9             Unnamed: 10  \n",
       "0  Tem_Hipoteca?  Tem_Emprestimo?  Qte_de_Ligações_Feitas  \n",
       "1            Sim              Não                       3  \n",
       "2            Não              Sim                       3  \n",
       "3            Não              Não                       1  \n",
       "4            Não              Não                       1  "
      ]
     },
     "execution_count": 2,
     "metadata": {},
     "output_type": "execute_result"
    }
   ],
   "source": [
    "caminho = r\"D:\\##ANALISEDEDADOS\\##PREDITIVA\\2. COMO RESUMIR E INTERPRETAR DADOS\\bank_marketing.xlsx\"\n",
    "df = pd.read_excel(caminho)\n",
    "df.head()"
   ]
  },
  {
   "cell_type": "code",
   "execution_count": 3,
   "id": "0bbd40e0-3bcb-4897-aeb0-53a91e5db3f6",
   "metadata": {},
   "outputs": [],
   "source": [
    "#Removendo coluna com 100% NaN - \"Unnamed: 0\""
   ]
  },
  {
   "cell_type": "code",
   "execution_count": 4,
   "id": "0ad23112-d05a-4a3c-858a-47489956e2ef",
   "metadata": {},
   "outputs": [],
   "source": [
    "df.drop(columns=\"Unnamed: 0\", inplace=True)"
   ]
  },
  {
   "cell_type": "code",
   "execution_count": 5,
   "id": "a73fdfdf-711b-4af2-93f0-9a1f5f4a3d32",
   "metadata": {},
   "outputs": [],
   "source": [
    "#Transformando primeira linha em cabeçalho de colunas"
   ]
  },
  {
   "cell_type": "code",
   "execution_count": 6,
   "id": "3124f023-4316-4c59-a741-540226e07f90",
   "metadata": {},
   "outputs": [],
   "source": [
    "aux = 0\n",
    "for coluna in df:\n",
    "    df.rename(columns = {coluna : df.iloc[0, aux]}, inplace=True)\n",
    "    aux += 1"
   ]
  },
  {
   "cell_type": "code",
   "execution_count": 7,
   "id": "a6d33da7-da30-4b04-839e-9c339b3da0c7",
   "metadata": {},
   "outputs": [
    {
     "data": {
      "text/html": [
       "<div>\n",
       "<style scoped>\n",
       "    .dataframe tbody tr th:only-of-type {\n",
       "        vertical-align: middle;\n",
       "    }\n",
       "\n",
       "    .dataframe tbody tr th {\n",
       "        vertical-align: top;\n",
       "    }\n",
       "\n",
       "    .dataframe thead th {\n",
       "        text-align: right;\n",
       "    }\n",
       "</style>\n",
       "<table border=\"1\" class=\"dataframe\">\n",
       "  <thead>\n",
       "    <tr style=\"text-align: right;\">\n",
       "      <th></th>\n",
       "      <th>Cliente_Comprou_o_Titulo?</th>\n",
       "      <th>Idade</th>\n",
       "      <th>Profissão</th>\n",
       "      <th>Estado_Civil</th>\n",
       "      <th>Formação</th>\n",
       "      <th>Cliente_Devedor?</th>\n",
       "      <th>Saldo_Conta_Corrente</th>\n",
       "      <th>Tem_Hipoteca?</th>\n",
       "      <th>Tem_Emprestimo?</th>\n",
       "      <th>Qte_de_Ligações_Feitas</th>\n",
       "    </tr>\n",
       "  </thead>\n",
       "  <tbody>\n",
       "    <tr>\n",
       "      <th>0</th>\n",
       "      <td>Cliente_Comprou_o_Titulo?</td>\n",
       "      <td>Idade</td>\n",
       "      <td>Profissão</td>\n",
       "      <td>Estado_Civil</td>\n",
       "      <td>Formação</td>\n",
       "      <td>Cliente_Devedor?</td>\n",
       "      <td>Saldo_Conta_Corrente</td>\n",
       "      <td>Tem_Hipoteca?</td>\n",
       "      <td>Tem_Emprestimo?</td>\n",
       "      <td>Qte_de_Ligações_Feitas</td>\n",
       "    </tr>\n",
       "    <tr>\n",
       "      <th>1</th>\n",
       "      <td>Não</td>\n",
       "      <td>33</td>\n",
       "      <td>Operário</td>\n",
       "      <td>Casado</td>\n",
       "      <td>Ensino Médio</td>\n",
       "      <td>Não</td>\n",
       "      <td>263</td>\n",
       "      <td>Sim</td>\n",
       "      <td>Não</td>\n",
       "      <td>3</td>\n",
       "    </tr>\n",
       "    <tr>\n",
       "      <th>2</th>\n",
       "      <td>Não</td>\n",
       "      <td>58</td>\n",
       "      <td>Aposentado</td>\n",
       "      <td>Casado</td>\n",
       "      <td>Ensino Médio</td>\n",
       "      <td>Não</td>\n",
       "      <td>19</td>\n",
       "      <td>Não</td>\n",
       "      <td>Sim</td>\n",
       "      <td>3</td>\n",
       "    </tr>\n",
       "  </tbody>\n",
       "</table>\n",
       "</div>"
      ],
      "text/plain": [
       "   Cliente_Comprou_o_Titulo?  Idade   Profissão  Estado_Civil      Formação  \\\n",
       "0  Cliente_Comprou_o_Titulo?  Idade   Profissão  Estado_Civil      Formação   \n",
       "1                        Não     33    Operário        Casado  Ensino Médio   \n",
       "2                        Não     58  Aposentado        Casado  Ensino Médio   \n",
       "\n",
       "   Cliente_Devedor?  Saldo_Conta_Corrente  Tem_Hipoteca?  Tem_Emprestimo?  \\\n",
       "0  Cliente_Devedor?  Saldo_Conta_Corrente  Tem_Hipoteca?  Tem_Emprestimo?   \n",
       "1               Não                   263            Sim              Não   \n",
       "2               Não                    19            Não              Sim   \n",
       "\n",
       "   Qte_de_Ligações_Feitas  \n",
       "0  Qte_de_Ligações_Feitas  \n",
       "1                       3  \n",
       "2                       3  "
      ]
     },
     "execution_count": 7,
     "metadata": {},
     "output_type": "execute_result"
    }
   ],
   "source": [
    "df.head(3)"
   ]
  },
  {
   "cell_type": "code",
   "execution_count": 8,
   "id": "08d711be-074e-4fea-b2c1-4fce0b5ebe75",
   "metadata": {},
   "outputs": [],
   "source": [
    "#Removendo primeira linha"
   ]
  },
  {
   "cell_type": "code",
   "execution_count": 9,
   "id": "b9cd76e8-d1c7-4a5d-a518-29eb756c80b9",
   "metadata": {},
   "outputs": [],
   "source": [
    "df.drop(index=0, inplace=True)"
   ]
  },
  {
   "cell_type": "code",
   "execution_count": 10,
   "id": "bfe8fbfb-6d7c-4776-8b97-6acf8817379b",
   "metadata": {},
   "outputs": [
    {
     "data": {
      "text/html": [
       "<div>\n",
       "<style scoped>\n",
       "    .dataframe tbody tr th:only-of-type {\n",
       "        vertical-align: middle;\n",
       "    }\n",
       "\n",
       "    .dataframe tbody tr th {\n",
       "        vertical-align: top;\n",
       "    }\n",
       "\n",
       "    .dataframe thead th {\n",
       "        text-align: right;\n",
       "    }\n",
       "</style>\n",
       "<table border=\"1\" class=\"dataframe\">\n",
       "  <thead>\n",
       "    <tr style=\"text-align: right;\">\n",
       "      <th></th>\n",
       "      <th>Cliente_Comprou_o_Titulo?</th>\n",
       "      <th>Idade</th>\n",
       "      <th>Profissão</th>\n",
       "      <th>Estado_Civil</th>\n",
       "      <th>Formação</th>\n",
       "      <th>Cliente_Devedor?</th>\n",
       "      <th>Saldo_Conta_Corrente</th>\n",
       "      <th>Tem_Hipoteca?</th>\n",
       "      <th>Tem_Emprestimo?</th>\n",
       "      <th>Qte_de_Ligações_Feitas</th>\n",
       "    </tr>\n",
       "  </thead>\n",
       "  <tbody>\n",
       "    <tr>\n",
       "      <th>1</th>\n",
       "      <td>Não</td>\n",
       "      <td>33</td>\n",
       "      <td>Operário</td>\n",
       "      <td>Casado</td>\n",
       "      <td>Ensino Médio</td>\n",
       "      <td>Não</td>\n",
       "      <td>263</td>\n",
       "      <td>Sim</td>\n",
       "      <td>Não</td>\n",
       "      <td>3</td>\n",
       "    </tr>\n",
       "    <tr>\n",
       "      <th>2</th>\n",
       "      <td>Não</td>\n",
       "      <td>58</td>\n",
       "      <td>Aposentado</td>\n",
       "      <td>Casado</td>\n",
       "      <td>Ensino Médio</td>\n",
       "      <td>Não</td>\n",
       "      <td>19</td>\n",
       "      <td>Não</td>\n",
       "      <td>Sim</td>\n",
       "      <td>3</td>\n",
       "    </tr>\n",
       "    <tr>\n",
       "      <th>3</th>\n",
       "      <td>Sim</td>\n",
       "      <td>83</td>\n",
       "      <td>Aposentado</td>\n",
       "      <td>Casado</td>\n",
       "      <td>Fundamental</td>\n",
       "      <td>Não</td>\n",
       "      <td>425</td>\n",
       "      <td>Não</td>\n",
       "      <td>Não</td>\n",
       "      <td>1</td>\n",
       "    </tr>\n",
       "    <tr>\n",
       "      <th>4</th>\n",
       "      <td>Sim</td>\n",
       "      <td>32</td>\n",
       "      <td>Administrador</td>\n",
       "      <td>Solteiro</td>\n",
       "      <td>Ensino Superior</td>\n",
       "      <td>Não</td>\n",
       "      <td>10281</td>\n",
       "      <td>Não</td>\n",
       "      <td>Não</td>\n",
       "      <td>1</td>\n",
       "    </tr>\n",
       "    <tr>\n",
       "      <th>5</th>\n",
       "      <td>Sim</td>\n",
       "      <td>31</td>\n",
       "      <td>Administrador</td>\n",
       "      <td>Solteiro</td>\n",
       "      <td>Ensino Médio</td>\n",
       "      <td>Não</td>\n",
       "      <td>360</td>\n",
       "      <td>Sim</td>\n",
       "      <td>Não</td>\n",
       "      <td>1</td>\n",
       "    </tr>\n",
       "  </tbody>\n",
       "</table>\n",
       "</div>"
      ],
      "text/plain": [
       "  Cliente_Comprou_o_Titulo? Idade      Profissão Estado_Civil  \\\n",
       "1                       Não    33       Operário       Casado   \n",
       "2                       Não    58     Aposentado       Casado   \n",
       "3                       Sim    83     Aposentado       Casado   \n",
       "4                       Sim    32  Administrador     Solteiro   \n",
       "5                       Sim    31  Administrador     Solteiro   \n",
       "\n",
       "          Formação Cliente_Devedor? Saldo_Conta_Corrente Tem_Hipoteca?  \\\n",
       "1     Ensino Médio              Não                  263           Sim   \n",
       "2     Ensino Médio              Não                   19           Não   \n",
       "3      Fundamental              Não                  425           Não   \n",
       "4  Ensino Superior              Não                10281           Não   \n",
       "5     Ensino Médio              Não                  360           Sim   \n",
       "\n",
       "  Tem_Emprestimo? Qte_de_Ligações_Feitas  \n",
       "1             Não                      3  \n",
       "2             Sim                      3  \n",
       "3             Não                      1  \n",
       "4             Não                      1  \n",
       "5             Não                      1  "
      ]
     },
     "execution_count": 10,
     "metadata": {},
     "output_type": "execute_result"
    }
   ],
   "source": [
    "df.head()"
   ]
  },
  {
   "cell_type": "code",
   "execution_count": 11,
   "id": "c3eaa334-9f04-4b69-bc27-22cde9154c56",
   "metadata": {},
   "outputs": [],
   "source": [
    "#Identificando tipo de dados"
   ]
  },
  {
   "cell_type": "code",
   "execution_count": 12,
   "id": "1b031ebb-6ec2-40db-84b6-65301c4ee251",
   "metadata": {},
   "outputs": [
    {
     "data": {
      "text/plain": [
       "Cliente_Comprou_o_Titulo?    object\n",
       "Idade                        object\n",
       "Profissão                    object\n",
       "Estado_Civil                 object\n",
       "Formação                     object\n",
       "Cliente_Devedor?             object\n",
       "Saldo_Conta_Corrente         object\n",
       "Tem_Hipoteca?                object\n",
       "Tem_Emprestimo?              object\n",
       "Qte_de_Ligações_Feitas       object\n",
       "dtype: object"
      ]
     },
     "execution_count": 12,
     "metadata": {},
     "output_type": "execute_result"
    }
   ],
   "source": [
    "df.dtypes"
   ]
  },
  {
   "cell_type": "code",
   "execution_count": 13,
   "id": "e281657b-0de5-4c10-b36d-07d342b13d5a",
   "metadata": {},
   "outputs": [],
   "source": [
    "#Alterando tipo de dados das colunas:Idade; Saldo_Conta_Corrente; Qte_de_Ligações_Feitas"
   ]
  },
  {
   "cell_type": "code",
   "execution_count": 14,
   "id": "e4d09d69-1e56-4151-a27f-9447bec6518a",
   "metadata": {},
   "outputs": [],
   "source": [
    "df[\"Idade\"] = df[\"Idade\"].astype(int)\n",
    "df[\"Saldo_Conta_Corrente\"] = df[\"Saldo_Conta_Corrente\"].astype(float)\n",
    "df[\"Qte_de_Ligações_Feitas\"] = df[\"Qte_de_Ligações_Feitas\"].astype(int)"
   ]
  },
  {
   "cell_type": "code",
   "execution_count": 15,
   "id": "956f0908-1f0b-4fa0-a10b-6ca7501282d3",
   "metadata": {},
   "outputs": [],
   "source": [
    "#Checando dados após alterações"
   ]
  },
  {
   "cell_type": "code",
   "execution_count": 16,
   "id": "c9f45fd5-5f5b-4238-924b-8bfd61c674e9",
   "metadata": {},
   "outputs": [
    {
     "data": {
      "text/plain": [
       "Cliente_Comprou_o_Titulo?     object\n",
       "Idade                          int32\n",
       "Profissão                     object\n",
       "Estado_Civil                  object\n",
       "Formação                      object\n",
       "Cliente_Devedor?              object\n",
       "Saldo_Conta_Corrente         float64\n",
       "Tem_Hipoteca?                 object\n",
       "Tem_Emprestimo?               object\n",
       "Qte_de_Ligações_Feitas         int32\n",
       "dtype: object"
      ]
     },
     "execution_count": 16,
     "metadata": {},
     "output_type": "execute_result"
    }
   ],
   "source": [
    "df.dtypes"
   ]
  },
  {
   "cell_type": "code",
   "execution_count": 17,
   "id": "40a26620-1f2e-45e4-9cf0-c360d6cd3560",
   "metadata": {},
   "outputs": [],
   "source": [
    "#Checando valores nulos"
   ]
  },
  {
   "cell_type": "code",
   "execution_count": 18,
   "id": "7571216e-8b67-4c98-a001-5361945111d1",
   "metadata": {},
   "outputs": [
    {
     "data": {
      "text/plain": [
       "Cliente_Comprou_o_Titulo?    0\n",
       "Idade                        0\n",
       "Profissão                    0\n",
       "Estado_Civil                 0\n",
       "Formação                     0\n",
       "Cliente_Devedor?             0\n",
       "Saldo_Conta_Corrente         0\n",
       "Tem_Hipoteca?                0\n",
       "Tem_Emprestimo?              0\n",
       "Qte_de_Ligações_Feitas       0\n",
       "dtype: int64"
      ]
     },
     "execution_count": 18,
     "metadata": {},
     "output_type": "execute_result"
    }
   ],
   "source": [
    "df.isna().sum()"
   ]
  },
  {
   "cell_type": "code",
   "execution_count": 19,
   "id": "bb73634e-7114-483a-956d-65eafc6708c0",
   "metadata": {},
   "outputs": [],
   "source": [
    "#Checando valores duplicados"
   ]
  },
  {
   "cell_type": "code",
   "execution_count": 20,
   "id": "074c7b6d-ebcc-456f-b217-00e4feeb4d3e",
   "metadata": {},
   "outputs": [
    {
     "data": {
      "text/plain": [
       "278"
      ]
     },
     "execution_count": 20,
     "metadata": {},
     "output_type": "execute_result"
    }
   ],
   "source": [
    "df.duplicated().sum()"
   ]
  },
  {
   "cell_type": "code",
   "execution_count": 21,
   "id": "a620ee9f-a139-4701-a148-05cc3b054a78",
   "metadata": {},
   "outputs": [
    {
     "data": {
      "text/html": [
       "<div>\n",
       "<style scoped>\n",
       "    .dataframe tbody tr th:only-of-type {\n",
       "        vertical-align: middle;\n",
       "    }\n",
       "\n",
       "    .dataframe tbody tr th {\n",
       "        vertical-align: top;\n",
       "    }\n",
       "\n",
       "    .dataframe thead th {\n",
       "        text-align: right;\n",
       "    }\n",
       "</style>\n",
       "<table border=\"1\" class=\"dataframe\">\n",
       "  <thead>\n",
       "    <tr style=\"text-align: right;\">\n",
       "      <th></th>\n",
       "      <th>Cliente_Comprou_o_Titulo?</th>\n",
       "      <th>Idade</th>\n",
       "      <th>Profissão</th>\n",
       "      <th>Estado_Civil</th>\n",
       "      <th>Formação</th>\n",
       "      <th>Cliente_Devedor?</th>\n",
       "      <th>Saldo_Conta_Corrente</th>\n",
       "      <th>Tem_Hipoteca?</th>\n",
       "      <th>Tem_Emprestimo?</th>\n",
       "      <th>Qte_de_Ligações_Feitas</th>\n",
       "    </tr>\n",
       "  </thead>\n",
       "  <tbody>\n",
       "    <tr>\n",
       "      <th>945</th>\n",
       "      <td>Sim</td>\n",
       "      <td>32</td>\n",
       "      <td>Estudante</td>\n",
       "      <td>Solteiro</td>\n",
       "      <td>Ensino Superior</td>\n",
       "      <td>Não</td>\n",
       "      <td>1138.0</td>\n",
       "      <td>Não</td>\n",
       "      <td>Não</td>\n",
       "      <td>3</td>\n",
       "    </tr>\n",
       "    <tr>\n",
       "      <th>1063</th>\n",
       "      <td>Sim</td>\n",
       "      <td>57</td>\n",
       "      <td>Aposentado</td>\n",
       "      <td>Casado</td>\n",
       "      <td>Ensino Médio</td>\n",
       "      <td>Não</td>\n",
       "      <td>1044.0</td>\n",
       "      <td>Não</td>\n",
       "      <td>Não</td>\n",
       "      <td>1</td>\n",
       "    </tr>\n",
       "    <tr>\n",
       "      <th>1066</th>\n",
       "      <td>Sim</td>\n",
       "      <td>32</td>\n",
       "      <td>Autônomo</td>\n",
       "      <td>Casado</td>\n",
       "      <td>Ensino Médio</td>\n",
       "      <td>Não</td>\n",
       "      <td>409.0</td>\n",
       "      <td>Não</td>\n",
       "      <td>Não</td>\n",
       "      <td>2</td>\n",
       "    </tr>\n",
       "    <tr>\n",
       "      <th>1102</th>\n",
       "      <td>Sim</td>\n",
       "      <td>37</td>\n",
       "      <td>Administrador</td>\n",
       "      <td>Casado</td>\n",
       "      <td>Ensino Superior</td>\n",
       "      <td>Não</td>\n",
       "      <td>2987.0</td>\n",
       "      <td>Sim</td>\n",
       "      <td>Não</td>\n",
       "      <td>1</td>\n",
       "    </tr>\n",
       "    <tr>\n",
       "      <th>1136</th>\n",
       "      <td>Sim</td>\n",
       "      <td>54</td>\n",
       "      <td>Técnico</td>\n",
       "      <td>Casado</td>\n",
       "      <td>Ensino Médio</td>\n",
       "      <td>Não</td>\n",
       "      <td>3994.0</td>\n",
       "      <td>Não</td>\n",
       "      <td>Sim</td>\n",
       "      <td>2</td>\n",
       "    </tr>\n",
       "  </tbody>\n",
       "</table>\n",
       "</div>"
      ],
      "text/plain": [
       "     Cliente_Comprou_o_Titulo?  Idade      Profissão Estado_Civil  \\\n",
       "945                        Sim     32      Estudante     Solteiro   \n",
       "1063                       Sim     57     Aposentado       Casado   \n",
       "1066                       Sim     32       Autônomo       Casado   \n",
       "1102                       Sim     37  Administrador       Casado   \n",
       "1136                       Sim     54        Técnico       Casado   \n",
       "\n",
       "             Formação Cliente_Devedor?  Saldo_Conta_Corrente Tem_Hipoteca?  \\\n",
       "945   Ensino Superior              Não                1138.0           Não   \n",
       "1063     Ensino Médio              Não                1044.0           Não   \n",
       "1066     Ensino Médio              Não                 409.0           Não   \n",
       "1102  Ensino Superior              Não                2987.0           Sim   \n",
       "1136     Ensino Médio              Não                3994.0           Não   \n",
       "\n",
       "     Tem_Emprestimo?  Qte_de_Ligações_Feitas  \n",
       "945              Não                       3  \n",
       "1063             Não                       1  \n",
       "1066             Não                       2  \n",
       "1102             Não                       1  \n",
       "1136             Sim                       2  "
      ]
     },
     "execution_count": 21,
     "metadata": {},
     "output_type": "execute_result"
    }
   ],
   "source": [
    "#Checando se realmente são valores duplicados\n",
    "#RESPOSTA: existe dados repetidos mas nao linhas duplicadas\n",
    "df[df.duplicated()==1].head()"
   ]
  },
  {
   "cell_type": "code",
   "execution_count": null,
   "id": "9d59171f-9a55-4e53-8796-d17a32757ed5",
   "metadata": {},
   "outputs": [],
   "source": []
  },
  {
   "cell_type": "code",
   "execution_count": null,
   "id": "af3454cb-f5ec-4a98-a135-14cd5ca9b900",
   "metadata": {},
   "outputs": [],
   "source": []
  },
  {
   "cell_type": "code",
   "execution_count": 22,
   "id": "049e848c-aba2-43c9-88e8-093305f68e89",
   "metadata": {},
   "outputs": [],
   "source": [
    "#Analise exploratoria"
   ]
  },
  {
   "cell_type": "code",
   "execution_count": 23,
   "id": "6d64e03a-be7b-4a36-8a12-ee11f531b4ba",
   "metadata": {},
   "outputs": [],
   "source": [
    "#Cliente_Comprou_o_Titulo"
   ]
  },
  {
   "cell_type": "code",
   "execution_count": 24,
   "id": "6c6594d7-f935-43c0-9180-876777fcd97e",
   "metadata": {},
   "outputs": [],
   "source": [
    "#Criando df df_cliente_comprou_titulo + calculo de freq_absoluta"
   ]
  },
  {
   "cell_type": "code",
   "execution_count": 25,
   "id": "fd66b425-dfcc-4526-9ac1-032421413498",
   "metadata": {},
   "outputs": [],
   "source": [
    "df_cliente_comprou_titulo = df[\"Cliente_Comprou_o_Titulo?\"].value_counts().to_frame(\"freq_absoluta\")"
   ]
  },
  {
   "cell_type": "code",
   "execution_count": 26,
   "id": "438c14ba-aca9-4887-a120-3328b3d7d6d0",
   "metadata": {},
   "outputs": [],
   "source": [
    "#Calculando freq_relativa"
   ]
  },
  {
   "cell_type": "code",
   "execution_count": 27,
   "id": "4f9d2d6b-d852-408a-88cd-48beb001fecf",
   "metadata": {},
   "outputs": [],
   "source": [
    "df_cliente_comprou_titulo[\"freq_relativa\"] = df[\"Cliente_Comprou_o_Titulo?\"].value_counts(1).to_frame()"
   ]
  },
  {
   "cell_type": "code",
   "execution_count": 28,
   "id": "3ccad5a3-c306-43ff-a070-5e46d9667f49",
   "metadata": {},
   "outputs": [],
   "source": [
    "#DataViz dos dados referentes à variável: \"Cliente comprou título?\""
   ]
  },
  {
   "cell_type": "code",
   "execution_count": 29,
   "id": "ea7915c4-1f37-4eb5-b1a9-086efba4ea8e",
   "metadata": {},
   "outputs": [
    {
     "name": "stderr",
     "output_type": "stream",
     "text": [
      "C:\\Users\\55839\\AppData\\Local\\Temp\\ipykernel_34460\\153563166.py:1: FutureWarning: Series.__getitem__ treating keys as positions is deprecated. In a future version, integer keys will always be treated as labels (consistent with DataFrame behavior). To access a value by position, use `ser.iloc[pos]`\n",
      "  nao_comprou_titulo = df[df[\"Cliente_Comprou_o_Titulo?\"] == \"Não\"].count()[0]\n",
      "C:\\Users\\55839\\AppData\\Local\\Temp\\ipykernel_34460\\153563166.py:2: FutureWarning: Series.__getitem__ treating keys as positions is deprecated. In a future version, integer keys will always be treated as labels (consistent with DataFrame behavior). To access a value by position, use `ser.iloc[pos]`\n",
      "  comprou_titulo = df[df[\"Cliente_Comprou_o_Titulo?\"] == \"Sim\"].count()[0]\n"
     ]
    }
   ],
   "source": [
    "nao_comprou_titulo = df[df[\"Cliente_Comprou_o_Titulo?\"] == \"Não\"].count()[0]\n",
    "comprou_titulo = df[df[\"Cliente_Comprou_o_Titulo?\"] == \"Sim\"].count()[0]"
   ]
  },
  {
   "cell_type": "code",
   "execution_count": 30,
   "id": "ac5d8713-ce75-4c97-a519-979ad6ff3e9f",
   "metadata": {},
   "outputs": [
    {
     "data": {
      "image/png": "[encoded data removed]",
      "text/plain": [
       "<Figure size 500x300 with 1 Axes>"
      ]
     },
     "metadata": {},
     "output_type": "display_data"
    }
   ],
   "source": [
    "plt.figure(figsize=(5,3))\n",
    "\n",
    "plt.pie(\n",
    "    [nao_comprou_titulo, comprou_titulo],\n",
    "    labels=[\"Não\", \"Sim\"],\n",
    "    colors=[\"red\", \"green\"],\n",
    "    autopct= \"% .2f %%\"\n",
    ")\n",
    "\n",
    "plt.title(\"Cliente comprou título?\", fontdict={\"fontweight\":\"bold\"})\n",
    "\n",
    "plt.show()"
   ]
  },
  {
   "cell_type": "code",
   "execution_count": 31,
   "id": "a9e5ce5a-fc46-4d84-9bcb-954c6c1eb5be",
   "metadata": {},
   "outputs": [
    {
     "data": {
      "text/html": [
       "<div>\n",
       "<style scoped>\n",
       "    .dataframe tbody tr th:only-of-type {\n",
       "        vertical-align: middle;\n",
       "    }\n",
       "\n",
       "    .dataframe tbody tr th {\n",
       "        vertical-align: top;\n",
       "    }\n",
       "\n",
       "    .dataframe thead th {\n",
       "        text-align: right;\n",
       "    }\n",
       "</style>\n",
       "<table border=\"1\" class=\"dataframe\">\n",
       "  <thead>\n",
       "    <tr style=\"text-align: right;\">\n",
       "      <th></th>\n",
       "      <th>freq_absoluta</th>\n",
       "      <th>freq_relativa</th>\n",
       "    </tr>\n",
       "    <tr>\n",
       "      <th>Cliente_Comprou_o_Titulo?</th>\n",
       "      <th></th>\n",
       "      <th></th>\n",
       "    </tr>\n",
       "  </thead>\n",
       "  <tbody>\n",
       "    <tr>\n",
       "      <th>Não</th>\n",
       "      <td>4906</td>\n",
       "      <td>0.506609</td>\n",
       "    </tr>\n",
       "    <tr>\n",
       "      <th>Sim</th>\n",
       "      <td>4778</td>\n",
       "      <td>0.493391</td>\n",
       "    </tr>\n",
       "  </tbody>\n",
       "</table>\n",
       "</div>"
      ],
      "text/plain": [
       "                           freq_absoluta  freq_relativa\n",
       "Cliente_Comprou_o_Titulo?                              \n",
       "Não                                 4906       0.506609\n",
       "Sim                                 4778       0.493391"
      ]
     },
     "execution_count": 31,
     "metadata": {},
     "output_type": "execute_result"
    }
   ],
   "source": [
    "df_cliente_comprou_titulo"
   ]
  },
  {
   "cell_type": "code",
   "execution_count": 202,
   "id": "16c57c6f-0fa1-4fc4-a6b3-94025b3501fc",
   "metadata": {},
   "outputs": [],
   "source": [
    "#INSIGHTS:\n",
    "#Ligeira maioria da base não comprou o título (50,66%)\n",
    "#Qual a meta?\n",
    "#Qual benchmark?"
   ]
  },
  {
   "cell_type": "code",
   "execution_count": null,
   "id": "c120b9e1-4a1f-4262-8e83-1d0e7be8da4c",
   "metadata": {},
   "outputs": [],
   "source": []
  },
  {
   "cell_type": "code",
   "execution_count": null,
   "id": "df8fa759-e6e8-4724-ba99-1d53401756be",
   "metadata": {},
   "outputs": [],
   "source": []
  },
  {
   "cell_type": "code",
   "execution_count": 33,
   "id": "f1cb6696-acbe-4352-960b-d5930a77617d",
   "metadata": {},
   "outputs": [],
   "source": [
    "#Idade"
   ]
  },
  {
   "cell_type": "code",
   "execution_count": 34,
   "id": "7ed70d1b-236a-4fd6-ae20-1c203beb13b1",
   "metadata": {},
   "outputs": [],
   "source": [
    "#Mapeando dados para criar classes de acordo com regra de Sturges"
   ]
  },
  {
   "cell_type": "code",
   "execution_count": 35,
   "id": "6e57e236-174e-4292-b05b-77b5be65d9f7",
   "metadata": {},
   "outputs": [
    {
     "data": {
      "text/plain": [
       "(9684,)"
      ]
     },
     "execution_count": 35,
     "metadata": {},
     "output_type": "execute_result"
    }
   ],
   "source": [
    "#Identificando maior valor de idade (95)\n",
    "df[\"Idade\"].max()\n",
    "#Identificando menor valor de idade (18)\n",
    "df[\"Idade\"].min()\n",
    "#Identificando total de dados na coluna (9684)\n",
    "df[\"Idade\"].shape"
   ]
  },
  {
   "cell_type": "code",
   "execution_count": 36,
   "id": "45a22eca-e725-47a4-b29b-81031246fb16",
   "metadata": {},
   "outputs": [],
   "source": [
    "#Considerando:\n",
    "#Amplitude da classe≈7\n",
    "#[18, 25)\n",
    "#[25, 32)\n",
    "#[32, 39)\n",
    "#[39, 46)\n",
    "#[46, 53)\n",
    "#[53, 60)\n",
    "#[60, 67)\n",
    "#[67, 74)\n",
    "#[74, 81)\n",
    "#[81, 88)\n",
    "#[88, 95]\n",
    "\n",
    "#Criando delimitadores de intervalos entre classes e rotulos para cada classe\n",
    "divisores = [17, 25, 32, 39, 46, 53, 60, 67, 74, 81, 88, 95]\n",
    "rotulos= [\"18-25\", \"25-32\", \"32-39\", \"39-46\", \"46-53\", \"53-60\", \"60-67\", \"67-74\", \"74-81\", \"81-88\", \"88-95\"]"
   ]
  },
  {
   "cell_type": "code",
   "execution_count": 37,
   "id": "f9d88068-869a-4ce1-9716-073933f0f802",
   "metadata": {},
   "outputs": [],
   "source": [
    "#Criando coluna faixa_etaria em df"
   ]
  },
  {
   "cell_type": "code",
   "execution_count": 38,
   "id": "7a599fb9-70d1-4510-ba0a-673044de4819",
   "metadata": {},
   "outputs": [],
   "source": [
    "df[\"faixa_etaria\"] = pd.cut(\n",
    "    df[\"Idade\"],\n",
    "    bins=divisores,\n",
    "    labels=rotulos,\n",
    "    right=False\n",
    ")"
   ]
  },
  {
   "cell_type": "code",
   "execution_count": 39,
   "id": "fc176272-541d-477c-80cb-a31ac00d0fae",
   "metadata": {},
   "outputs": [],
   "source": [
    "#Criando dataframe exclusivo para variavel faixa_etaria e calculando freq_absoluta"
   ]
  },
  {
   "cell_type": "code",
   "execution_count": 40,
   "id": "05e23283-afb7-46ab-81b2-8052ae2fb2b9",
   "metadata": {},
   "outputs": [],
   "source": [
    "df_fx_etaria = df[\"faixa_etaria\"].value_counts().to_frame(\"freq_absoluta\")"
   ]
  },
  {
   "cell_type": "code",
   "execution_count": 41,
   "id": "da76c609-f272-4588-a7a7-566c8cf3b3a8",
   "metadata": {},
   "outputs": [],
   "source": [
    "#Ordenando variavel qualitativa ordinal (faixa_etaria)"
   ]
  },
  {
   "cell_type": "code",
   "execution_count": 42,
   "id": "94287a00-b4f7-4bfe-bd96-5d397d43ea9d",
   "metadata": {},
   "outputs": [],
   "source": [
    "df_fx_etaria = df_fx_etaria.reindex(\n",
    "    index=rotulos\n",
    ")"
   ]
  },
  {
   "cell_type": "code",
   "execution_count": 43,
   "id": "eb5f3885-04ad-4059-812b-37b110ab003f",
   "metadata": {},
   "outputs": [],
   "source": [
    "#Calculando freq_relativa"
   ]
  },
  {
   "cell_type": "code",
   "execution_count": 44,
   "id": "aa6a8065-7e9b-4746-8127-94b054496d93",
   "metadata": {},
   "outputs": [],
   "source": [
    "df_fx_etaria[\"freq_relativa\"] = df[\"faixa_etaria\"].value_counts(1).to_frame()"
   ]
  },
  {
   "cell_type": "code",
   "execution_count": 45,
   "id": "77d04b8a-c06f-4015-8b10-a15d57c8de6e",
   "metadata": {},
   "outputs": [],
   "source": [
    "#Calculando freq_acumulada"
   ]
  },
  {
   "cell_type": "code",
   "execution_count": 46,
   "id": "30a4049f-9287-4f5f-82a9-dbaab2fc8d78",
   "metadata": {},
   "outputs": [],
   "source": [
    "df_fx_etaria[\"freq_acumulada\"] = df_fx_etaria[\"freq_relativa\"].cumsum()"
   ]
  },
  {
   "cell_type": "code",
   "execution_count": 47,
   "id": "7accaf22-4b18-43d0-997a-9b34aa2bf95f",
   "metadata": {},
   "outputs": [],
   "source": [
    "#DataViz dos dados referentes à variável: \"faixa_etaria\""
   ]
  },
  {
   "cell_type": "code",
   "execution_count": 167,
   "id": "a6222f84-bab8-468b-9ad4-e55f3fd31517",
   "metadata": {},
   "outputs": [
    {
     "data": {
      "image/png": "[encoded data removed]",
      "text/plain": [
       "<Figure size 700x350 with 1 Axes>"
      ]
     },
     "metadata": {},
     "output_type": "display_data"
    }
   ],
   "source": [
    "sns.displot(\n",
    "    df[\"faixa_etaria\"],\n",
    "    height=3.5, \n",
    "    aspect=2\n",
    ")\n",
    "\n",
    "plt.title(\"Distribuição de Faixa Etária\", fontdict={\"fontweight\":\"bold\"})\n",
    "plt.xlabel(\"Faixa Etária\", fontdict={\"fontweight\":\"bold\"})\n",
    "plt.ylabel(\"Frequência\", fontdict={\"fontweight\":\"bold\"})\n",
    "\n",
    "plt.show()"
   ]
  },
  {
   "cell_type": "code",
   "execution_count": 49,
   "id": "3bb66baf-847f-4529-a658-7553b3729496",
   "metadata": {},
   "outputs": [
    {
     "data": {
      "text/html": [
       "<div>\n",
       "<style scoped>\n",
       "    .dataframe tbody tr th:only-of-type {\n",
       "        vertical-align: middle;\n",
       "    }\n",
       "\n",
       "    .dataframe tbody tr th {\n",
       "        vertical-align: top;\n",
       "    }\n",
       "\n",
       "    .dataframe thead th {\n",
       "        text-align: right;\n",
       "    }\n",
       "</style>\n",
       "<table border=\"1\" class=\"dataframe\">\n",
       "  <thead>\n",
       "    <tr style=\"text-align: right;\">\n",
       "      <th></th>\n",
       "      <th>freq_absoluta</th>\n",
       "      <th>freq_relativa</th>\n",
       "      <th>freq_acumulada</th>\n",
       "    </tr>\n",
       "    <tr>\n",
       "      <th>faixa_etaria</th>\n",
       "      <th></th>\n",
       "      <th></th>\n",
       "      <th></th>\n",
       "    </tr>\n",
       "  </thead>\n",
       "  <tbody>\n",
       "    <tr>\n",
       "      <th>18-25</th>\n",
       "      <td>261</td>\n",
       "      <td>0.026954</td>\n",
       "      <td>0.026954</td>\n",
       "    </tr>\n",
       "    <tr>\n",
       "      <th>25-32</th>\n",
       "      <td>1961</td>\n",
       "      <td>0.202520</td>\n",
       "      <td>0.229474</td>\n",
       "    </tr>\n",
       "    <tr>\n",
       "      <th>32-39</th>\n",
       "      <td>2622</td>\n",
       "      <td>0.270784</td>\n",
       "      <td>0.500258</td>\n",
       "    </tr>\n",
       "    <tr>\n",
       "      <th>39-46</th>\n",
       "      <td>1677</td>\n",
       "      <td>0.173190</td>\n",
       "      <td>0.673448</td>\n",
       "    </tr>\n",
       "    <tr>\n",
       "      <th>46-53</th>\n",
       "      <td>1329</td>\n",
       "      <td>0.137251</td>\n",
       "      <td>0.810699</td>\n",
       "    </tr>\n",
       "    <tr>\n",
       "      <th>53-60</th>\n",
       "      <td>1116</td>\n",
       "      <td>0.115254</td>\n",
       "      <td>0.925953</td>\n",
       "    </tr>\n",
       "    <tr>\n",
       "      <th>60-67</th>\n",
       "      <td>374</td>\n",
       "      <td>0.038624</td>\n",
       "      <td>0.964577</td>\n",
       "    </tr>\n",
       "    <tr>\n",
       "      <th>67-74</th>\n",
       "      <td>168</td>\n",
       "      <td>0.017350</td>\n",
       "      <td>0.981927</td>\n",
       "    </tr>\n",
       "    <tr>\n",
       "      <th>74-81</th>\n",
       "      <td>128</td>\n",
       "      <td>0.013219</td>\n",
       "      <td>0.995146</td>\n",
       "    </tr>\n",
       "    <tr>\n",
       "      <th>81-88</th>\n",
       "      <td>38</td>\n",
       "      <td>0.003924</td>\n",
       "      <td>0.999071</td>\n",
       "    </tr>\n",
       "    <tr>\n",
       "      <th>88-95</th>\n",
       "      <td>9</td>\n",
       "      <td>0.000929</td>\n",
       "      <td>1.000000</td>\n",
       "    </tr>\n",
       "  </tbody>\n",
       "</table>\n",
       "</div>"
      ],
      "text/plain": [
       "              freq_absoluta  freq_relativa  freq_acumulada\n",
       "faixa_etaria                                              \n",
       "18-25                   261       0.026954        0.026954\n",
       "25-32                  1961       0.202520        0.229474\n",
       "32-39                  2622       0.270784        0.500258\n",
       "39-46                  1677       0.173190        0.673448\n",
       "46-53                  1329       0.137251        0.810699\n",
       "53-60                  1116       0.115254        0.925953\n",
       "60-67                   374       0.038624        0.964577\n",
       "67-74                   168       0.017350        0.981927\n",
       "74-81                   128       0.013219        0.995146\n",
       "81-88                    38       0.003924        0.999071\n",
       "88-95                     9       0.000929        1.000000"
      ]
     },
     "execution_count": 49,
     "metadata": {},
     "output_type": "execute_result"
    }
   ],
   "source": [
    "df_fx_etaria"
   ]
  },
  {
   "cell_type": "code",
   "execution_count": 201,
   "id": "7439e292-987e-42d9-84b6-f8a70f4db568",
   "metadata": {},
   "outputs": [],
   "source": [
    "#INSIGHTS\n",
    "#32-39 corresponde à maior categoria de idade da base (27,07%)\n",
    "    #Interessante devido à maior probabilidade de possuir renda suficiente ppara investir em ativos?\n",
    "#25-53 corresponde a cerca de 78,35% da base\n",
    "#Qual a meta?\n",
    "#Quais os benchmarks?"
   ]
  },
  {
   "cell_type": "code",
   "execution_count": null,
   "id": "29f40277-d197-4c87-b7d4-08efd89df7e7",
   "metadata": {},
   "outputs": [],
   "source": []
  },
  {
   "cell_type": "code",
   "execution_count": null,
   "id": "592b6800-8132-4453-b9df-f8096de22123",
   "metadata": {},
   "outputs": [],
   "source": []
  },
  {
   "cell_type": "code",
   "execution_count": 51,
   "id": "b9dfbb6f-9338-4898-a3bc-58204e269008",
   "metadata": {},
   "outputs": [],
   "source": [
    "#Profissão"
   ]
  },
  {
   "cell_type": "code",
   "execution_count": 52,
   "id": "9bc89330-2e1c-4541-9616-abba2874eac4",
   "metadata": {},
   "outputs": [],
   "source": [
    "#Calculando freq_absoluta"
   ]
  },
  {
   "cell_type": "code",
   "execution_count": 53,
   "id": "18b368ff-afe1-461d-9df7-e63366376607",
   "metadata": {},
   "outputs": [],
   "source": [
    "df_profissao = df[\"Profissão\"].value_counts().to_frame(\"freq_absoluta\")"
   ]
  },
  {
   "cell_type": "code",
   "execution_count": 54,
   "id": "6e7c467e-c73a-4459-9dd5-268e34167d87",
   "metadata": {},
   "outputs": [],
   "source": [
    "#Calculando freq_relativa"
   ]
  },
  {
   "cell_type": "code",
   "execution_count": 55,
   "id": "abb9507b-8246-4133-ad94-576316177e62",
   "metadata": {},
   "outputs": [],
   "source": [
    "df_profissao[\"freq_relativa\"] = df[\"Profissão\"].value_counts(1).sort_values(ascending=False).to_frame()"
   ]
  },
  {
   "cell_type": "code",
   "execution_count": 56,
   "id": "f299a387-524f-499e-a477-d0a0b32cc2ae",
   "metadata": {},
   "outputs": [],
   "source": [
    "#Calculando freq_acumulada"
   ]
  },
  {
   "cell_type": "code",
   "execution_count": 57,
   "id": "d231798a-6ac9-4385-8376-c03aacbb7389",
   "metadata": {},
   "outputs": [],
   "source": [
    "df_profissao[\"freq_acumulada\"] = df[\"Profissão\"].value_counts(1).sort_values(ascending=False).cumsum().to_frame()"
   ]
  },
  {
   "cell_type": "code",
   "execution_count": 58,
   "id": "ab023255-878e-49c0-bd4d-a750c4bcf54c",
   "metadata": {},
   "outputs": [],
   "source": [
    "#DataViz dos dados referentes à variável: \"Profissao\""
   ]
  },
  {
   "cell_type": "code",
   "execution_count": 173,
   "id": "4a8eeb11-9dd9-4911-b953-823f34746654",
   "metadata": {},
   "outputs": [
    {
     "data": {
      "image/png": "[encoded data removed]",
      "text/plain": [
       "<Figure size 1400x400 with 1 Axes>"
      ]
     },
     "metadata": {},
     "output_type": "display_data"
    }
   ],
   "source": [
    "sns.displot(\n",
    "    df[\"Profissão\"],\n",
    "    height=4,\n",
    "    aspect=3.5\n",
    ")\n",
    "\n",
    "plt.title(\"Distribuição de profissões dos clientes\", fontdict={\"fontweight\":\"bold\"})\n",
    "plt.xlabel(\"\")\n",
    "plt.ylabel(\"Frequência\", fontdict={\"fontweight\":\"bold\"});"
   ]
  },
  {
   "cell_type": "code",
   "execution_count": 190,
   "id": "5c666ea0-e7e1-44ca-8354-b8a22cdb9e7f",
   "metadata": {},
   "outputs": [
    {
     "data": {
      "text/html": [
       "<div>\n",
       "<style scoped>\n",
       "    .dataframe tbody tr th:only-of-type {\n",
       "        vertical-align: middle;\n",
       "    }\n",
       "\n",
       "    .dataframe tbody tr th {\n",
       "        vertical-align: top;\n",
       "    }\n",
       "\n",
       "    .dataframe thead th {\n",
       "        text-align: right;\n",
       "    }\n",
       "</style>\n",
       "<table border=\"1\" class=\"dataframe\">\n",
       "  <thead>\n",
       "    <tr style=\"text-align: right;\">\n",
       "      <th></th>\n",
       "      <th>freq_absoluta</th>\n",
       "      <th>freq_relativa</th>\n",
       "      <th>freq_acumulada</th>\n",
       "    </tr>\n",
       "    <tr>\n",
       "      <th>Profissão</th>\n",
       "      <th></th>\n",
       "      <th></th>\n",
       "      <th></th>\n",
       "    </tr>\n",
       "  </thead>\n",
       "  <tbody>\n",
       "    <tr>\n",
       "      <th>Administrador</th>\n",
       "      <td>3402</td>\n",
       "      <td>0.351301</td>\n",
       "      <td>0.351301</td>\n",
       "    </tr>\n",
       "    <tr>\n",
       "      <th>Operário</th>\n",
       "      <td>1621</td>\n",
       "      <td>0.167390</td>\n",
       "      <td>0.518691</td>\n",
       "    </tr>\n",
       "    <tr>\n",
       "      <th>Técnico</th>\n",
       "      <td>1582</td>\n",
       "      <td>0.163362</td>\n",
       "      <td>0.682053</td>\n",
       "    </tr>\n",
       "    <tr>\n",
       "      <th>Serviços Gerais</th>\n",
       "      <td>781</td>\n",
       "      <td>0.080648</td>\n",
       "      <td>0.762701</td>\n",
       "    </tr>\n",
       "    <tr>\n",
       "      <th>Aposentado</th>\n",
       "      <td>706</td>\n",
       "      <td>0.072904</td>\n",
       "      <td>0.835605</td>\n",
       "    </tr>\n",
       "    <tr>\n",
       "      <th>Autônomo</th>\n",
       "      <td>355</td>\n",
       "      <td>0.036658</td>\n",
       "      <td>0.872264</td>\n",
       "    </tr>\n",
       "    <tr>\n",
       "      <th>Estudante</th>\n",
       "      <td>344</td>\n",
       "      <td>0.035523</td>\n",
       "      <td>0.907786</td>\n",
       "    </tr>\n",
       "    <tr>\n",
       "      <th>Desempregado</th>\n",
       "      <td>317</td>\n",
       "      <td>0.032734</td>\n",
       "      <td>0.940520</td>\n",
       "    </tr>\n",
       "    <tr>\n",
       "      <th>Empresário</th>\n",
       "      <td>273</td>\n",
       "      <td>0.028191</td>\n",
       "      <td>0.968711</td>\n",
       "    </tr>\n",
       "    <tr>\n",
       "      <th>Diarista</th>\n",
       "      <td>240</td>\n",
       "      <td>0.024783</td>\n",
       "      <td>0.993494</td>\n",
       "    </tr>\n",
       "  </tbody>\n",
       "</table>\n",
       "</div>"
      ],
      "text/plain": [
       "                 freq_absoluta  freq_relativa  freq_acumulada\n",
       "Profissão                                                    \n",
       "Administrador             3402       0.351301        0.351301\n",
       "Operário                  1621       0.167390        0.518691\n",
       "Técnico                   1582       0.163362        0.682053\n",
       "Serviços Gerais            781       0.080648        0.762701\n",
       "Aposentado                 706       0.072904        0.835605\n",
       "Autônomo                   355       0.036658        0.872264\n",
       "Estudante                  344       0.035523        0.907786\n",
       "Desempregado               317       0.032734        0.940520\n",
       "Empresário                 273       0.028191        0.968711\n",
       "Diarista                   240       0.024783        0.993494"
      ]
     },
     "execution_count": 190,
     "metadata": {},
     "output_type": "execute_result"
    }
   ],
   "source": [
    "df_profissao.head(10)"
   ]
  },
  {
   "cell_type": "code",
   "execution_count": 203,
   "id": "6f6216da-0ff2-477a-9618-d018723923bb",
   "metadata": {},
   "outputs": [],
   "source": [
    "#INSIGHTS\n",
    "#Administrador corresponde à maior categoria da base (35,13%)\n",
    "    #Dado interessante devido ao nivel de consciencia elevado deste tipo de profissão?\n",
    "#Administrador, Operário, Tecnico e Serviços Gerais correspondem a 76,27% da base\n",
    "#Qual a meta?\n",
    "#Quais os benchmarks?"
   ]
  },
  {
   "cell_type": "code",
   "execution_count": null,
   "id": "1e72a10d-fd6f-4065-9c37-db727cc0821b",
   "metadata": {},
   "outputs": [],
   "source": []
  },
  {
   "cell_type": "code",
   "execution_count": null,
   "id": "1dc12223-fb54-4c24-8643-2ed054162094",
   "metadata": {},
   "outputs": [],
   "source": []
  },
  {
   "cell_type": "code",
   "execution_count": 62,
   "id": "f398f32e-2019-4f2d-9741-e4f4cfbcded1",
   "metadata": {},
   "outputs": [],
   "source": [
    "#Formação"
   ]
  },
  {
   "cell_type": "code",
   "execution_count": 63,
   "id": "dca42775-856d-43a5-91ac-925d9bb7afeb",
   "metadata": {},
   "outputs": [],
   "source": [
    "#Calculando freq_absoluta e ordenando variavel qualitativa ordinal. Em seguida, transformando em dataframe"
   ]
  },
  {
   "cell_type": "code",
   "execution_count": 64,
   "id": "1bae1db0-e752-448e-94ca-0a9099f54743",
   "metadata": {},
   "outputs": [],
   "source": [
    "df_formacao = df[\"Formação\"].value_counts().reindex(index=[\"Fundamental\", \"Ensino Médio\", \"Ensino Superior\", \"Desconhecido\"]).to_frame(\"freq_absoluta\")"
   ]
  },
  {
   "cell_type": "code",
   "execution_count": 65,
   "id": "6aafa552-184d-4930-88ab-02a54806b86d",
   "metadata": {},
   "outputs": [],
   "source": [
    "#Calculando freq_relativa"
   ]
  },
  {
   "cell_type": "code",
   "execution_count": 66,
   "id": "92040856-d8e4-4f32-8fa4-1f511c338d68",
   "metadata": {},
   "outputs": [],
   "source": [
    "df_formacao[\"freq_relativa\"] = df[\"Formação\"].value_counts(1).reindex(index=[\"Fundamental\", \"Ensino Médio\", \"Ensino Superior\", \"Desconhecido\"]).to_frame()"
   ]
  },
  {
   "cell_type": "code",
   "execution_count": 67,
   "id": "0d479fca-0a72-47a5-a3ae-088d6b31881a",
   "metadata": {},
   "outputs": [],
   "source": [
    "#Calculando freq_acumulada"
   ]
  },
  {
   "cell_type": "code",
   "execution_count": 68,
   "id": "416ff5a8-6e4a-4da2-bb7a-fc86267604e2",
   "metadata": {},
   "outputs": [],
   "source": [
    "df_formacao[\"freq_acumulada\"] = df[\"Formação\"].value_counts(1).reindex(index=[\"Fundamental\", \"Ensino Médio\", \"Ensino Superior\", \"Desconhecido\"]).cumsum().to_frame()"
   ]
  },
  {
   "cell_type": "code",
   "execution_count": 69,
   "id": "c907c0a3-1565-40e2-9572-1302bfc1c6a0",
   "metadata": {},
   "outputs": [],
   "source": [
    "#DataViz dos dados referentes à variável: \"formação\""
   ]
  },
  {
   "cell_type": "code",
   "execution_count": 70,
   "id": "887692bb-26dd-4832-a1d8-6dab85bc4c9a",
   "metadata": {},
   "outputs": [],
   "source": [
    "#Modificando tipo de dado da variável para \"categoria\""
   ]
  },
  {
   "cell_type": "code",
   "execution_count": 71,
   "id": "3a17afd0-e85f-496f-84be-143aee5f1ed2",
   "metadata": {
    "scrolled": true
   },
   "outputs": [],
   "source": [
    "df[\"Formação\"] = df[\"Formação\"].astype(\"category\")"
   ]
  },
  {
   "cell_type": "code",
   "execution_count": 72,
   "id": "cf653990-eb4d-4622-a4e1-0208355bfe40",
   "metadata": {},
   "outputs": [],
   "source": [
    "#Reordenando categoria para dispor a variavel adequadamente no grafico por se tratar de variavel qualitativa ordinal"
   ]
  },
  {
   "cell_type": "code",
   "execution_count": 73,
   "id": "a5f2da17-8f48-49d9-961f-20ca2794d733",
   "metadata": {},
   "outputs": [],
   "source": [
    "ordem_categoria = [\"Fundamental\", \"Ensino Médio\", \"Ensino Superior\", \"Desconhecido\"]\n",
    "df[\"Formação\"] = df[\"Formação\"].cat.reorder_categories(ordem_categoria, ordered=True)"
   ]
  },
  {
   "cell_type": "code",
   "execution_count": 74,
   "id": "96c83087-924c-427a-b134-58c3e3f10482",
   "metadata": {},
   "outputs": [],
   "source": [
    "#Grafico"
   ]
  },
  {
   "cell_type": "code",
   "execution_count": 171,
   "id": "acb98c84-81a3-4e0e-bc44-314b50802a1e",
   "metadata": {},
   "outputs": [
    {
     "data": {
      "image/png": "[encoded data removed]",
      "text/plain": [
       "<Figure size 1000x400 with 1 Axes>"
      ]
     },
     "metadata": {},
     "output_type": "display_data"
    }
   ],
   "source": [
    "sns.displot(\n",
    "    df[\"Formação\"],\n",
    "    height=4,\n",
    "    aspect=2.5\n",
    ")\n",
    "\n",
    "plt.title(\"Distribuição da escolaridade dos clientes\", fontdict={\"fontweight\":\"bold\"})\n",
    "plt.xlabel(\"\")\n",
    "plt.ylabel(\"Frequência\", fontdict={\"fontweight\":\"bold\"});"
   ]
  },
  {
   "cell_type": "code",
   "execution_count": 76,
   "id": "3059ea20-e73c-4a37-98ad-4287820b8491",
   "metadata": {},
   "outputs": [
    {
     "data": {
      "text/html": [
       "<div>\n",
       "<style scoped>\n",
       "    .dataframe tbody tr th:only-of-type {\n",
       "        vertical-align: middle;\n",
       "    }\n",
       "\n",
       "    .dataframe tbody tr th {\n",
       "        vertical-align: top;\n",
       "    }\n",
       "\n",
       "    .dataframe thead th {\n",
       "        text-align: right;\n",
       "    }\n",
       "</style>\n",
       "<table border=\"1\" class=\"dataframe\">\n",
       "  <thead>\n",
       "    <tr style=\"text-align: right;\">\n",
       "      <th></th>\n",
       "      <th>freq_absoluta</th>\n",
       "      <th>freq_relativa</th>\n",
       "      <th>freq_acumulada</th>\n",
       "    </tr>\n",
       "    <tr>\n",
       "      <th>Formação</th>\n",
       "      <th></th>\n",
       "      <th></th>\n",
       "      <th></th>\n",
       "    </tr>\n",
       "  </thead>\n",
       "  <tbody>\n",
       "    <tr>\n",
       "      <th>Fundamental</th>\n",
       "      <td>1267</td>\n",
       "      <td>0.130834</td>\n",
       "      <td>0.130834</td>\n",
       "    </tr>\n",
       "    <tr>\n",
       "      <th>Ensino Médio</th>\n",
       "      <td>4718</td>\n",
       "      <td>0.487195</td>\n",
       "      <td>0.618030</td>\n",
       "    </tr>\n",
       "    <tr>\n",
       "      <th>Ensino Superior</th>\n",
       "      <td>3247</td>\n",
       "      <td>0.335295</td>\n",
       "      <td>0.953325</td>\n",
       "    </tr>\n",
       "    <tr>\n",
       "      <th>Desconhecido</th>\n",
       "      <td>452</td>\n",
       "      <td>0.046675</td>\n",
       "      <td>1.000000</td>\n",
       "    </tr>\n",
       "  </tbody>\n",
       "</table>\n",
       "</div>"
      ],
      "text/plain": [
       "                 freq_absoluta  freq_relativa  freq_acumulada\n",
       "Formação                                                     \n",
       "Fundamental               1267       0.130834        0.130834\n",
       "Ensino Médio              4718       0.487195        0.618030\n",
       "Ensino Superior           3247       0.335295        0.953325\n",
       "Desconhecido               452       0.046675        1.000000"
      ]
     },
     "execution_count": 76,
     "metadata": {},
     "output_type": "execute_result"
    }
   ],
   "source": [
    "df_formacao"
   ]
  },
  {
   "cell_type": "code",
   "execution_count": 199,
   "id": "889e7df6-ee9e-4cf9-81d2-cc6c71397b6b",
   "metadata": {},
   "outputs": [],
   "source": [
    "#INSIGHTS\n",
    "#Ensino médio é a categoria mais prevalente na base (48,71%)\n",
    "#Ensino médio + ensino superior correspondem a 82,23% da base.\n",
    "#O que houve para, quase, 5% da base não informar os dados de escolaridade?\n",
    "#Qual a meta?\n",
    "#Quais os benchmarks?"
   ]
  },
  {
   "cell_type": "code",
   "execution_count": null,
   "id": "78028109-6947-4500-b488-3b743c2f0325",
   "metadata": {},
   "outputs": [],
   "source": []
  },
  {
   "cell_type": "code",
   "execution_count": null,
   "id": "d16d5b4d-9cc5-4178-bd77-8d63aacbf166",
   "metadata": {},
   "outputs": [],
   "source": []
  },
  {
   "cell_type": "code",
   "execution_count": 78,
   "id": "f2885dd8-4c6e-452f-864d-7463de49100a",
   "metadata": {},
   "outputs": [],
   "source": [
    "#Estado Civil"
   ]
  },
  {
   "cell_type": "code",
   "execution_count": 79,
   "id": "8265108d-6f1b-4e54-9476-618d98ed49dd",
   "metadata": {},
   "outputs": [],
   "source": [
    "#Criando tabela da variavel qualitativa ordinal \"Estado Civil\" + Calculo da freq_absoluta"
   ]
  },
  {
   "cell_type": "code",
   "execution_count": 80,
   "id": "19656853-e86e-4105-9b4b-dcc86c8ab92b",
   "metadata": {},
   "outputs": [],
   "source": [
    "df_estado_civil = df[\"Estado_Civil\"].value_counts().to_frame(\"freq_absoluta\")"
   ]
  },
  {
   "cell_type": "code",
   "execution_count": 81,
   "id": "77535ebb-c8c1-4d67-91f6-3cd3456cd97e",
   "metadata": {},
   "outputs": [],
   "source": [
    "#Reordenando variavel qualitativa ordinal"
   ]
  },
  {
   "cell_type": "code",
   "execution_count": 82,
   "id": "15d1121a-53db-4182-8ad4-f0546f3fc273",
   "metadata": {},
   "outputs": [],
   "source": [
    "df_estado_civil = df_estado_civil.reindex(\n",
    "    index=[\"Solteiro\", \"Casado\", \"Divorciado\"]\n",
    ")"
   ]
  },
  {
   "cell_type": "code",
   "execution_count": 83,
   "id": "26abafe5-69fc-4760-9633-fb26f35cf7b4",
   "metadata": {},
   "outputs": [],
   "source": [
    "#Calculando freq_relativa"
   ]
  },
  {
   "cell_type": "code",
   "execution_count": 84,
   "id": "8dd47936-767c-4a52-91d0-ad05bf0e4b0b",
   "metadata": {},
   "outputs": [],
   "source": [
    "df_estado_civil[\"freq_relativa\"] = df[\"Estado_Civil\"].value_counts(1).to_frame()"
   ]
  },
  {
   "cell_type": "code",
   "execution_count": 85,
   "id": "4b5d73dd-8ddf-4255-b295-17ceba7f7277",
   "metadata": {},
   "outputs": [],
   "source": [
    "#Calculando freq_acumulada"
   ]
  },
  {
   "cell_type": "code",
   "execution_count": 86,
   "id": "6023fa28-320e-4e6a-9aa1-56d9dcb213ae",
   "metadata": {},
   "outputs": [],
   "source": [
    "df_estado_civil[\"freq_acumulada\"] = df[\"Estado_Civil\"].value_counts(1).reindex(index=[\"Solteiro\", \"Casado\", \"Divorciado\"]).cumsum().to_frame()"
   ]
  },
  {
   "cell_type": "code",
   "execution_count": 87,
   "id": "2a7a2640-8a9a-43a9-a2c1-cc5b754a2b39",
   "metadata": {},
   "outputs": [],
   "source": [
    "#DataViz dos dados referentes à variável: \"Estado_Civil\""
   ]
  },
  {
   "cell_type": "code",
   "execution_count": 88,
   "id": "6050889a-6a29-46eb-8e3e-159af5a331a3",
   "metadata": {},
   "outputs": [],
   "source": [
    "#Definindo \"categoria\" como tipo da variável \"Estado_Civil\""
   ]
  },
  {
   "cell_type": "code",
   "execution_count": 89,
   "id": "e1a54aa5-6ffd-4f4d-97dd-b39fb5199afa",
   "metadata": {},
   "outputs": [],
   "source": [
    "df[\"Estado_Civil\"] = df[\"Estado_Civil\"].astype(\"category\")"
   ]
  },
  {
   "cell_type": "code",
   "execution_count": 90,
   "id": "0a2a3f90-c39a-410f-aefc-b2a68801d415",
   "metadata": {},
   "outputs": [],
   "source": [
    "#Reordenando a categoria para dispor a variável adequadamente por se tratar de variavel qualitativa ordinal"
   ]
  },
  {
   "cell_type": "code",
   "execution_count": 91,
   "id": "a4187dfa-c6e1-4bc7-8adc-29a03d0784b6",
   "metadata": {},
   "outputs": [],
   "source": [
    "categorias_ordenadas = ['Solteiro', 'Casado', 'Divorciado']\n",
    "df['Estado_Civil'] = df['Estado_Civil'].cat.reorder_categories(categorias_ordenadas, ordered=True)"
   ]
  },
  {
   "cell_type": "code",
   "execution_count": 92,
   "id": "f537e0b8-2181-4f7f-bdef-5beb282d7c54",
   "metadata": {},
   "outputs": [
    {
     "data": {
      "image/png": "[encoded data removed]",
      "text/plain": [
       "<Figure size 500x500 with 1 Axes>"
      ]
     },
     "metadata": {},
     "output_type": "display_data"
    }
   ],
   "source": [
    "sns.displot(\n",
    "    df[\"Estado_Civil\"]\n",
    ")\n",
    "\n",
    "plt.title(\"Distribuição do estado civil dos clientes\", fontdict={\"fontweight\":\"bold\"})\n",
    "plt.xlabel(\"\")\n",
    "plt.ylabel(\"Frequência\", fontdict={\"fontweight\":\"bold\"});"
   ]
  },
  {
   "cell_type": "code",
   "execution_count": 93,
   "id": "6c5fa0a7-f3a9-477b-b6af-cdd953f40413",
   "metadata": {},
   "outputs": [
    {
     "data": {
      "text/html": [
       "<div>\n",
       "<style scoped>\n",
       "    .dataframe tbody tr th:only-of-type {\n",
       "        vertical-align: middle;\n",
       "    }\n",
       "\n",
       "    .dataframe tbody tr th {\n",
       "        vertical-align: top;\n",
       "    }\n",
       "\n",
       "    .dataframe thead th {\n",
       "        text-align: right;\n",
       "    }\n",
       "</style>\n",
       "<table border=\"1\" class=\"dataframe\">\n",
       "  <thead>\n",
       "    <tr style=\"text-align: right;\">\n",
       "      <th></th>\n",
       "      <th>freq_absoluta</th>\n",
       "      <th>freq_relativa</th>\n",
       "      <th>freq_acumulada</th>\n",
       "    </tr>\n",
       "    <tr>\n",
       "      <th>Estado_Civil</th>\n",
       "      <th></th>\n",
       "      <th></th>\n",
       "      <th></th>\n",
       "    </tr>\n",
       "  </thead>\n",
       "  <tbody>\n",
       "    <tr>\n",
       "      <th>Solteiro</th>\n",
       "      <td>3159</td>\n",
       "      <td>0.326208</td>\n",
       "      <td>0.326208</td>\n",
       "    </tr>\n",
       "    <tr>\n",
       "      <th>Casado</th>\n",
       "      <td>5469</td>\n",
       "      <td>0.564746</td>\n",
       "      <td>0.890954</td>\n",
       "    </tr>\n",
       "    <tr>\n",
       "      <th>Divorciado</th>\n",
       "      <td>1056</td>\n",
       "      <td>0.109046</td>\n",
       "      <td>1.000000</td>\n",
       "    </tr>\n",
       "  </tbody>\n",
       "</table>\n",
       "</div>"
      ],
      "text/plain": [
       "              freq_absoluta  freq_relativa  freq_acumulada\n",
       "Estado_Civil                                              \n",
       "Solteiro               3159       0.326208        0.326208\n",
       "Casado                 5469       0.564746        0.890954\n",
       "Divorciado             1056       0.109046        1.000000"
      ]
     },
     "execution_count": 93,
     "metadata": {},
     "output_type": "execute_result"
    }
   ],
   "source": [
    "df_estado_civil"
   ]
  },
  {
   "cell_type": "code",
   "execution_count": 198,
   "id": "0fa4d6d3-c338-4df4-8f26-5a6c4aedf5ac",
   "metadata": {},
   "outputs": [],
   "source": [
    "#INSIGHTS:\n",
    "#89.09% da base é solteiro ou casado\n",
    "#A base é formada, majoritariamente, por casados (56,47%). Ser casado é melhor pois a familia tem duas fontes de renda \n",
    "#e, consequentemente, maior possibilidade de investir?\n",
    "#Qual a meta?\n",
    "#Qual o benchmark?"
   ]
  },
  {
   "cell_type": "code",
   "execution_count": null,
   "id": "098c9c28-f785-429d-b317-0dbe5c377c5f",
   "metadata": {},
   "outputs": [],
   "source": []
  },
  {
   "cell_type": "code",
   "execution_count": null,
   "id": "9fad7a60-731f-4551-baf8-6140656fcfec",
   "metadata": {},
   "outputs": [],
   "source": []
  },
  {
   "cell_type": "code",
   "execution_count": 95,
   "id": "f7a2bf24-0733-41bf-8766-49291ecbda50",
   "metadata": {},
   "outputs": [],
   "source": [
    "#Cliente_Devedor?"
   ]
  },
  {
   "cell_type": "code",
   "execution_count": 96,
   "id": "53be6bb2-b901-4263-abb0-e9c30d0859d8",
   "metadata": {},
   "outputs": [],
   "source": [
    "#Criando tabela de Cliente_Devedor?\t+ Calculo de freq_abolsuta"
   ]
  },
  {
   "cell_type": "code",
   "execution_count": 97,
   "id": "4987d0c5-fab6-427b-ab25-bd0817a79596",
   "metadata": {},
   "outputs": [],
   "source": [
    "df_cliente_devedor = df[\"Cliente_Devedor?\"].value_counts().to_frame(\"freq_absoluta\")"
   ]
  },
  {
   "cell_type": "code",
   "execution_count": 98,
   "id": "b8fded56-45c1-4d4d-82c6-e7e942e036ba",
   "metadata": {},
   "outputs": [],
   "source": [
    "#Calculando freq_relativa"
   ]
  },
  {
   "cell_type": "code",
   "execution_count": 99,
   "id": "0a0cf804-dc47-401c-8b4a-b570716b46d8",
   "metadata": {},
   "outputs": [],
   "source": [
    "df_cliente_devedor[\"freq_relativa\"] = df[\"Cliente_Devedor?\"].value_counts(1).to_frame()"
   ]
  },
  {
   "cell_type": "code",
   "execution_count": 100,
   "id": "3a7df6a5-47a7-494f-988a-85db4ed6f9c5",
   "metadata": {},
   "outputs": [],
   "source": [
    "#Calculando freq_acumulada"
   ]
  },
  {
   "cell_type": "code",
   "execution_count": 101,
   "id": "d658faae-0e39-496d-881a-fc53aa519d1b",
   "metadata": {},
   "outputs": [],
   "source": [
    "df_cliente_devedor[\"freq_acumulada\"] = df[\"Cliente_Devedor?\"].value_counts(1).cumsum().to_frame()"
   ]
  },
  {
   "cell_type": "code",
   "execution_count": 102,
   "id": "f41a48b7-1a00-4c24-94d7-4d5a46a8c39d",
   "metadata": {},
   "outputs": [],
   "source": [
    "#DataViz dos dados referentes à variável: \"Cliente devedor?\""
   ]
  },
  {
   "cell_type": "code",
   "execution_count": 103,
   "id": "58de9555-d4ab-489f-bbb5-dbc03cbab013",
   "metadata": {},
   "outputs": [
    {
     "data": {
      "image/png": "[encoded data removed]",
      "text/plain": [
       "<Figure size 500x300 with 1 Axes>"
      ]
     },
     "metadata": {},
     "output_type": "display_data"
    }
   ],
   "source": [
    "nao = df_cliente_devedor.loc[\"Não\", \"freq_absoluta\"]\n",
    "sim = df_cliente_devedor.loc[\"Sim\", \"freq_absoluta\"]\n",
    "\n",
    "plt.figure(figsize=(5,3))\n",
    "\n",
    "plt.pie(\n",
    "    [nao, sim],\n",
    "    labels=[\"Não\", \"Sim\"],\n",
    "    colors=[\"green\", \"red\"],\n",
    "    autopct=\"%.2f %%\"\n",
    ")\n",
    "\n",
    "\n",
    "plt.title(\"Cliente devedor?\", fontdict={\"fontweight\":\"bold\"})\n",
    "plt.legend(bbox_to_anchor=(1,1))\n",
    "\n",
    "plt.show()"
   ]
  },
  {
   "cell_type": "code",
   "execution_count": 104,
   "id": "b98438b5-e014-41dc-9f6c-a0b3f3e922f3",
   "metadata": {},
   "outputs": [
    {
     "data": {
      "text/html": [
       "<div>\n",
       "<style scoped>\n",
       "    .dataframe tbody tr th:only-of-type {\n",
       "        vertical-align: middle;\n",
       "    }\n",
       "\n",
       "    .dataframe tbody tr th {\n",
       "        vertical-align: top;\n",
       "    }\n",
       "\n",
       "    .dataframe thead th {\n",
       "        text-align: right;\n",
       "    }\n",
       "</style>\n",
       "<table border=\"1\" class=\"dataframe\">\n",
       "  <thead>\n",
       "    <tr style=\"text-align: right;\">\n",
       "      <th></th>\n",
       "      <th>freq_absoluta</th>\n",
       "      <th>freq_relativa</th>\n",
       "      <th>freq_acumulada</th>\n",
       "    </tr>\n",
       "    <tr>\n",
       "      <th>Cliente_Devedor?</th>\n",
       "      <th></th>\n",
       "      <th></th>\n",
       "      <th></th>\n",
       "    </tr>\n",
       "  </thead>\n",
       "  <tbody>\n",
       "    <tr>\n",
       "      <th>Não</th>\n",
       "      <td>9619</td>\n",
       "      <td>0.993288</td>\n",
       "      <td>0.993288</td>\n",
       "    </tr>\n",
       "    <tr>\n",
       "      <th>Sim</th>\n",
       "      <td>65</td>\n",
       "      <td>0.006712</td>\n",
       "      <td>1.000000</td>\n",
       "    </tr>\n",
       "  </tbody>\n",
       "</table>\n",
       "</div>"
      ],
      "text/plain": [
       "                  freq_absoluta  freq_relativa  freq_acumulada\n",
       "Cliente_Devedor?                                              \n",
       "Não                        9619       0.993288        0.993288\n",
       "Sim                          65       0.006712        1.000000"
      ]
     },
     "execution_count": 104,
     "metadata": {},
     "output_type": "execute_result"
    }
   ],
   "source": [
    "df_cliente_devedor"
   ]
  },
  {
   "cell_type": "code",
   "execution_count": 197,
   "id": "7b249b6d-07b8-4ba6-b92e-00d80bb14138",
   "metadata": {},
   "outputs": [],
   "source": [
    "#INSIGHTS\n",
    "#Quase 100% da base NÃO é cliente devedor. Qual criterio de escolha destes clientes? Foi intencional?\n",
    "#É interessante que maior parte da base não seja devedora?\n",
    "#Qual a meta?\n",
    "#Qual benchmark?"
   ]
  },
  {
   "cell_type": "code",
   "execution_count": null,
   "id": "57aa628e-d02f-41e3-9894-f1a7fcf9c5cb",
   "metadata": {},
   "outputs": [],
   "source": []
  },
  {
   "cell_type": "code",
   "execution_count": null,
   "id": "e9db22fb-86b6-4087-a2b6-ed4836e66036",
   "metadata": {},
   "outputs": [],
   "source": []
  },
  {
   "cell_type": "code",
   "execution_count": 106,
   "id": "fd92004e-e061-417f-8c8d-cad8e08cb25a",
   "metadata": {},
   "outputs": [],
   "source": [
    "#Feature Engineering da coluna Saldo_Conta_Corrente - criando faixas de valores\n",
    "#Para isso: Identificar maior valor, menor valor e quantidade de dados. Em seguida, aplicar Sturges para calcular numero de classes, \n",
    "#intervalos de classes e rotulos"
   ]
  },
  {
   "cell_type": "code",
   "execution_count": 107,
   "id": "52a3a18d-fe8f-487c-8439-741ae88e6656",
   "metadata": {},
   "outputs": [
    {
     "data": {
      "text/plain": [
       "(9684,)"
      ]
     },
     "execution_count": 107,
     "metadata": {},
     "output_type": "execute_result"
    }
   ],
   "source": [
    "#maior_valor (29340)\n",
    "df[\"Saldo_Conta_Corrente\"].max()\n",
    "#menor_valor (1)\n",
    "df[\"Saldo_Conta_Corrente\"].min()\n",
    "#qtd_dados (9684)\n",
    "df[\"Saldo_Conta_Corrente\"].shape\n",
    "\n",
    "#Segundo Sturges:\n",
    "#Qtd Classes ~5\n",
    "#Intervalos\n",
    "#\"1-5868\"\n",
    "#\"5868-11735\"\n",
    "#\"11735-17602\"\n",
    "#\"17602-23469\"\n",
    "#\"23469-29340\"\n",
    "\n",
    "#Recalculando qtd de classes e novos intervalos para maior granularidade\n",
    "#Qtd Classes ~15\n",
    "#Intervalos\n",
    "#\"1-1956\"\n",
    "#\"1956-3911\"\n",
    "#\"3911-5866\"\n",
    "#\"5866-7821\"\n",
    "#\"7821-9776\"\n",
    "#\"9776-11731\"\n",
    "#\"11731-13686\"\n",
    "#\"13686-15641\"\n",
    "#\"15641-17596\"\n",
    "#\"17596-19551\"\n",
    "#\"19551-21506\"\n",
    "#\"21506-23461\"\n",
    "#\"23461-25416\"\n",
    "#\"25416-27371\"\n",
    "#\"27371-29340\""
   ]
  },
  {
   "cell_type": "code",
   "execution_count": 108,
   "id": "e5d33982-c8b9-4783-945b-6ce53f0fd815",
   "metadata": {},
   "outputs": [],
   "source": [
    "#Definindo delimitadores de intervalos de classe e rotulos de cada classe"
   ]
  },
  {
   "cell_type": "code",
   "execution_count": 109,
   "id": "ecd3c3a9-1c21-4af9-a4c4-4f9097232c98",
   "metadata": {},
   "outputs": [],
   "source": [
    "delimitador1 = [0, 1956, 3911, 5866, 7821, 9776, 11731, 13686, 15641, 17596, 19551, 21506, 23461, 25416, 27371, 29341]\n",
    "rotulos1 = [\"1-1956\",\n",
    "\"1956-3911\",\n",
    "\"3911-5866\",\n",
    "\"5866-7821\",\n",
    "\"7821-9776\",\n",
    "\"9776-11731\",\n",
    "\"11731-13686\",\n",
    "\"13686-15641\",\n",
    "\"15641-17596\",\n",
    "\"17596-19551\",\n",
    "\"19551-21506\",\n",
    "\"21506-23461\",\n",
    "\"23461-25416\",\n",
    "\"25416-27371\",\n",
    "\"27371-29340\"]"
   ]
  },
  {
   "cell_type": "code",
   "execution_count": 110,
   "id": "1c2b7907-3d43-4bf0-bee0-9d0defd964eb",
   "metadata": {},
   "outputs": [],
   "source": [
    "#Criando coluna com categorias"
   ]
  },
  {
   "cell_type": "code",
   "execution_count": 111,
   "id": "82999b6b-8302-462a-980f-a944c141657b",
   "metadata": {},
   "outputs": [],
   "source": [
    "df[\"fx_Saldo_Conta_Corrente\"] = pd.cut(\n",
    "    df[\"Saldo_Conta_Corrente\"],\n",
    "    bins=delimitador1,\n",
    "    labels=rotulos1,\n",
    "    right=False\n",
    ")"
   ]
  },
  {
   "cell_type": "code",
   "execution_count": 112,
   "id": "f6c71146-a239-4648-abb9-e75ee4739add",
   "metadata": {},
   "outputs": [],
   "source": [
    "#Criando tabela fx_Saldo_Conta_Corrente + calculo de freq_absoluta"
   ]
  },
  {
   "cell_type": "code",
   "execution_count": 113,
   "id": "a72ea1a6-5db7-488d-b3ed-3c75e56e7740",
   "metadata": {},
   "outputs": [],
   "source": [
    "df_fx_Saldo_Conta_Corrente = df[\"fx_Saldo_Conta_Corrente\"].value_counts().to_frame(\"freq_absoluta\")"
   ]
  },
  {
   "cell_type": "code",
   "execution_count": 114,
   "id": "ace11e25-52ae-4858-b27b-858fb6aeb762",
   "metadata": {},
   "outputs": [],
   "source": [
    "#Ordenado categorias"
   ]
  },
  {
   "cell_type": "code",
   "execution_count": 115,
   "id": "9f7c1f3f-5142-4839-992e-3ca583bfa194",
   "metadata": {},
   "outputs": [],
   "source": [
    "df_fx_Saldo_Conta_Corrente = df_fx_Saldo_Conta_Corrente.reindex(\n",
    "    index=rotulos1\n",
    ")"
   ]
  },
  {
   "cell_type": "code",
   "execution_count": 116,
   "id": "47e4d3e1-7aca-414e-90cf-4775909f8bcc",
   "metadata": {},
   "outputs": [],
   "source": [
    "#Calculando freq_relativa"
   ]
  },
  {
   "cell_type": "code",
   "execution_count": 117,
   "id": "07da12f5-2949-43bd-9f26-11280f60c1c0",
   "metadata": {},
   "outputs": [],
   "source": [
    "df_fx_Saldo_Conta_Corrente[\"freq_relativa\"] = df[\"fx_Saldo_Conta_Corrente\"].value_counts(1).to_frame()"
   ]
  },
  {
   "cell_type": "code",
   "execution_count": 118,
   "id": "556e64da-c3d7-4ddc-9d7e-492404e13cd9",
   "metadata": {},
   "outputs": [],
   "source": [
    "#Calculando freq_acumulada"
   ]
  },
  {
   "cell_type": "code",
   "execution_count": 119,
   "id": "d70e55ab-fb7c-40d2-9e02-c5b1f9b73481",
   "metadata": {},
   "outputs": [],
   "source": [
    "df_fx_Saldo_Conta_Corrente[\"freq_acumulada\"] = df_fx_Saldo_Conta_Corrente[\"freq_relativa\"].cumsum().to_frame()"
   ]
  },
  {
   "cell_type": "code",
   "execution_count": 120,
   "id": "31467dfe-018f-4087-b52c-eb8f24571a59",
   "metadata": {},
   "outputs": [],
   "source": [
    "#DataViz dos dados referentes à variável: \"fx_Saldo_Conta_Corrente\""
   ]
  },
  {
   "cell_type": "code",
   "execution_count": 121,
   "id": "59f57989-e779-4c1b-bd34-efdb3926a2f5",
   "metadata": {},
   "outputs": [
    {
     "data": {
      "image/png": "[encoded data removed]",
      "text/plain": [
       "<Figure size 1800x450 with 1 Axes>"
      ]
     },
     "metadata": {},
     "output_type": "display_data"
    }
   ],
   "source": [
    "sns.displot(\n",
    "    df[\"fx_Saldo_Conta_Corrente\"],\n",
    "    height=4.5,\n",
    "    aspect=4\n",
    ")\n",
    "\n",
    "plt.title(\"Distribuição de Saldo em Conta Corrente dos Clientes\", fontdict={\"fontweight\":\"bold\"})\n",
    "plt.xlabel(\"Saldo em Conta Corrente\")\n",
    "plt.ylabel(\"Frequência\", fontdict={\"fontweight\":\"bold\"});"
   ]
  },
  {
   "cell_type": "code",
   "execution_count": 192,
   "id": "bc93f94a-7fa9-4097-948d-0b26b89d9807",
   "metadata": {},
   "outputs": [],
   "source": [
    "#INSIGHTS\n",
    "#Faixa com 1-1956 de saldo_conta_corrente possui maior concentração na base (74,43%)\n",
    "#Isso é desfavorável? Visto que menor renda implica em menor probabilidade de alocar recurso em investimento?\n",
    "#Qual a meta?\n",
    "#Qual o benchmark?"
   ]
  },
  {
   "cell_type": "code",
   "execution_count": null,
   "id": "5dfc8c7d-0f14-4898-b7f9-570257ed7a5a",
   "metadata": {},
   "outputs": [],
   "source": []
  },
  {
   "cell_type": "code",
   "execution_count": null,
   "id": "e0f483d7-3b9b-4e9d-bee6-7a83da06be1a",
   "metadata": {},
   "outputs": [],
   "source": []
  },
  {
   "cell_type": "code",
   "execution_count": 123,
   "id": "639f3dc6-3a93-4bed-831a-6dc2b0b64f12",
   "metadata": {},
   "outputs": [],
   "source": [
    "#Tem_Hipoteca?"
   ]
  },
  {
   "cell_type": "code",
   "execution_count": 124,
   "id": "405c721d-8a5f-453d-ae9e-f61336f498f8",
   "metadata": {},
   "outputs": [],
   "source": [
    "#Criando tabela Tem_Hipoteca? + calculo freq_absoluta"
   ]
  },
  {
   "cell_type": "code",
   "execution_count": 125,
   "id": "63f3d035-0fef-47ef-bacb-9e0495890e83",
   "metadata": {},
   "outputs": [],
   "source": [
    "df_tem_hipoteca = df[\"Tem_Hipoteca?\"].value_counts().to_frame(\"freq_absoluta\")"
   ]
  },
  {
   "cell_type": "code",
   "execution_count": 126,
   "id": "ef35de59-e50b-4dba-b1db-763bbcb400e1",
   "metadata": {},
   "outputs": [],
   "source": [
    "#Calculando freq_relativa"
   ]
  },
  {
   "cell_type": "code",
   "execution_count": 127,
   "id": "85b2cb84-211a-4b2d-85c0-58bb2cff91dc",
   "metadata": {},
   "outputs": [],
   "source": [
    "df_tem_hipoteca[\"freq_relativa\"] = df[\"Tem_Hipoteca?\"].value_counts(1).to_frame()"
   ]
  },
  {
   "cell_type": "code",
   "execution_count": 128,
   "id": "62b93e77-7208-47ce-8001-c085f1c886c3",
   "metadata": {},
   "outputs": [],
   "source": [
    "#Calculando freq_acumulada"
   ]
  },
  {
   "cell_type": "code",
   "execution_count": 129,
   "id": "09dae7ba-85ba-4fcc-939a-acabe9c9285a",
   "metadata": {},
   "outputs": [],
   "source": [
    "df_tem_hipoteca[\"freq_acumulada\"]= df[\"Tem_Hipoteca?\"].value_counts(1).cumsum().to_frame()"
   ]
  },
  {
   "cell_type": "code",
   "execution_count": 130,
   "id": "f794eb12-ade8-483d-b6a0-342e9979b887",
   "metadata": {},
   "outputs": [],
   "source": [
    "#DataViz dos dados referentes à variável: \"Tem hipoteca?\""
   ]
  },
  {
   "cell_type": "code",
   "execution_count": 131,
   "id": "6b27a122-5669-4835-adc7-0a7a25235a52",
   "metadata": {},
   "outputs": [
    {
     "name": "stderr",
     "output_type": "stream",
     "text": [
      "C:\\Users\\55839\\AppData\\Local\\Temp\\ipykernel_34460\\4291275183.py:1: FutureWarning: Series.__getitem__ treating keys as positions is deprecated. In a future version, integer keys will always be treated as labels (consistent with DataFrame behavior). To access a value by position, use `ser.iloc[pos]`\n",
      "  nao_tem_hipoteca = df.loc[df[\"Tem_Hipoteca?\"] == \"Não\"].count()[0]\n",
      "C:\\Users\\55839\\AppData\\Local\\Temp\\ipykernel_34460\\4291275183.py:2: FutureWarning: Series.__getitem__ treating keys as positions is deprecated. In a future version, integer keys will always be treated as labels (consistent with DataFrame behavior). To access a value by position, use `ser.iloc[pos]`\n",
      "  tem_hipoteca = df.loc[df[\"Tem_Hipoteca?\"] == \"Sim\"].count()[0]\n"
     ]
    }
   ],
   "source": [
    "nao_tem_hipoteca = df.loc[df[\"Tem_Hipoteca?\"] == \"Não\"].count()[0]\n",
    "tem_hipoteca = df.loc[df[\"Tem_Hipoteca?\"] == \"Sim\"].count()[0]"
   ]
  },
  {
   "cell_type": "code",
   "execution_count": 132,
   "id": "26987bdb-d6f0-4a5c-b08e-89d34710e5b2",
   "metadata": {},
   "outputs": [
    {
     "data": {
      "image/png": "[encoded data removed]",
      "text/plain": [
       "<Figure size 500x300 with 1 Axes>"
      ]
     },
     "metadata": {},
     "output_type": "display_data"
    }
   ],
   "source": [
    "plt.figure(figsize=(5,3))\n",
    "\n",
    "plt.pie(\n",
    "    [nao_tem_hipoteca, tem_hipoteca],\n",
    "    labels=[\"Não\", \"Sim\"],\n",
    "    colors=[\"green\", \"red\"],\n",
    "    autopct = \"% .2f %%\"\n",
    ")\n",
    "\n",
    "plt.title(\"Cliente tem hipoteca?\", fontdict={\"fontweight\":\"bold\"})\n",
    "\n",
    "plt.show()"
   ]
  },
  {
   "cell_type": "code",
   "execution_count": 133,
   "id": "a38cd212-fa85-4f0f-8655-2a04374cf033",
   "metadata": {},
   "outputs": [
    {
     "data": {
      "text/html": [
       "<div>\n",
       "<style scoped>\n",
       "    .dataframe tbody tr th:only-of-type {\n",
       "        vertical-align: middle;\n",
       "    }\n",
       "\n",
       "    .dataframe tbody tr th {\n",
       "        vertical-align: top;\n",
       "    }\n",
       "\n",
       "    .dataframe thead th {\n",
       "        text-align: right;\n",
       "    }\n",
       "</style>\n",
       "<table border=\"1\" class=\"dataframe\">\n",
       "  <thead>\n",
       "    <tr style=\"text-align: right;\">\n",
       "      <th></th>\n",
       "      <th>freq_absoluta</th>\n",
       "      <th>freq_relativa</th>\n",
       "      <th>freq_acumulada</th>\n",
       "    </tr>\n",
       "    <tr>\n",
       "      <th>Tem_Hipoteca?</th>\n",
       "      <th></th>\n",
       "      <th></th>\n",
       "      <th></th>\n",
       "    </tr>\n",
       "  </thead>\n",
       "  <tbody>\n",
       "    <tr>\n",
       "      <th>Não</th>\n",
       "      <td>5260</td>\n",
       "      <td>0.543164</td>\n",
       "      <td>0.543164</td>\n",
       "    </tr>\n",
       "    <tr>\n",
       "      <th>Sim</th>\n",
       "      <td>4424</td>\n",
       "      <td>0.456836</td>\n",
       "      <td>1.000000</td>\n",
       "    </tr>\n",
       "  </tbody>\n",
       "</table>\n",
       "</div>"
      ],
      "text/plain": [
       "               freq_absoluta  freq_relativa  freq_acumulada\n",
       "Tem_Hipoteca?                                              \n",
       "Não                     5260       0.543164        0.543164\n",
       "Sim                     4424       0.456836        1.000000"
      ]
     },
     "execution_count": 133,
     "metadata": {},
     "output_type": "execute_result"
    }
   ],
   "source": [
    "df_tem_hipoteca"
   ]
  },
  {
   "cell_type": "code",
   "execution_count": 193,
   "id": "97f7cdbd-e45c-464d-ad7a-6fc6d5960aa2",
   "metadata": {},
   "outputs": [],
   "source": [
    "#INSIGHTS\n",
    "#Maior parte da base NÃO tem hipoteca (54,32%)\n",
    "#Isso é bom ou ruim?\n",
    "#Qual a meta?\n",
    "#Qual benchmark?"
   ]
  },
  {
   "cell_type": "code",
   "execution_count": null,
   "id": "35a58ebe-3bd4-4a36-9f03-a39102a1bee3",
   "metadata": {},
   "outputs": [],
   "source": []
  },
  {
   "cell_type": "code",
   "execution_count": null,
   "id": "e99382f1-88be-430e-9179-e702e00da845",
   "metadata": {},
   "outputs": [],
   "source": []
  },
  {
   "cell_type": "code",
   "execution_count": 135,
   "id": "1618e587-4086-4c49-a766-fc928acc2194",
   "metadata": {},
   "outputs": [],
   "source": [
    "#Tem_Emprestimo?\t"
   ]
  },
  {
   "cell_type": "code",
   "execution_count": 136,
   "id": "d86f21ea-d368-4571-b451-158e85539048",
   "metadata": {},
   "outputs": [],
   "source": [
    "#Criando tabela Tem_Emprestimo?\t+ calculo de freq_absoluta"
   ]
  },
  {
   "cell_type": "code",
   "execution_count": 137,
   "id": "f325670f-dad5-4977-895b-7d3517976696",
   "metadata": {},
   "outputs": [],
   "source": [
    "df_tem_emprestimo = df[\"Tem_Emprestimo?\"].value_counts().to_frame(\"freq_absoluta\")"
   ]
  },
  {
   "cell_type": "code",
   "execution_count": 138,
   "id": "008f4062-9540-4540-ab2e-d45219cdcd8e",
   "metadata": {},
   "outputs": [],
   "source": [
    "#Calculando freq_relativa"
   ]
  },
  {
   "cell_type": "code",
   "execution_count": 139,
   "id": "074532db-86e9-458c-b2be-920390a0abed",
   "metadata": {},
   "outputs": [],
   "source": [
    "df_tem_emprestimo[\"freq_relativa\"] = df[\"Tem_Emprestimo?\"].value_counts(1).to_frame()"
   ]
  },
  {
   "cell_type": "code",
   "execution_count": 140,
   "id": "fcfb148c-3a6a-4742-b7d5-524110489449",
   "metadata": {},
   "outputs": [],
   "source": [
    "#Calculando freq_acumulada"
   ]
  },
  {
   "cell_type": "code",
   "execution_count": 141,
   "id": "e0255df5-e99e-4422-b2b4-76d6168bcbd1",
   "metadata": {},
   "outputs": [],
   "source": [
    "df_tem_emprestimo[\"freq_acumulada\"] = df[\"Tem_Emprestimo?\"].value_counts(1).cumsum().to_frame()"
   ]
  },
  {
   "cell_type": "code",
   "execution_count": 142,
   "id": "52a0d662-9395-466e-8c8d-0b652f4a942b",
   "metadata": {},
   "outputs": [],
   "source": [
    "#DataViz dos dados referentes à variável: \"Tem empréstimo?\""
   ]
  },
  {
   "cell_type": "code",
   "execution_count": 143,
   "id": "617562c7-1f56-4f5f-8e2f-b73dc51e3d55",
   "metadata": {},
   "outputs": [
    {
     "name": "stderr",
     "output_type": "stream",
     "text": [
      "C:\\Users\\55839\\AppData\\Local\\Temp\\ipykernel_34460\\909435562.py:1: FutureWarning: Series.__getitem__ treating keys as positions is deprecated. In a future version, integer keys will always be treated as labels (consistent with DataFrame behavior). To access a value by position, use `ser.iloc[pos]`\n",
      "  nao_tem_emprestimo = df.loc[df[\"Tem_Emprestimo?\"] == \"Não\"].count()[0]\n",
      "C:\\Users\\55839\\AppData\\Local\\Temp\\ipykernel_34460\\909435562.py:2: FutureWarning: Series.__getitem__ treating keys as positions is deprecated. In a future version, integer keys will always be treated as labels (consistent with DataFrame behavior). To access a value by position, use `ser.iloc[pos]`\n",
      "  tem_emprestimo = df.loc[df[\"Tem_Emprestimo?\"] == \"Sim\"].count()[0]\n"
     ]
    }
   ],
   "source": [
    "nao_tem_emprestimo = df.loc[df[\"Tem_Emprestimo?\"] == \"Não\"].count()[0]\n",
    "tem_emprestimo = df.loc[df[\"Tem_Emprestimo?\"] == \"Sim\"].count()[0]"
   ]
  },
  {
   "cell_type": "code",
   "execution_count": 144,
   "id": "b807d0df-5425-475a-ac09-4d41b9e0d221",
   "metadata": {},
   "outputs": [
    {
     "data": {
      "image/png": "[encoded data removed]",
      "text/plain": [
       "<Figure size 500x300 with 1 Axes>"
      ]
     },
     "metadata": {},
     "output_type": "display_data"
    }
   ],
   "source": [
    "plt.figure(figsize=(5,3))\n",
    "\n",
    "plt.pie(\n",
    "    [nao_tem_emprestimo, tem_emprestimo],\n",
    "    labels=[\"Não\", \"Sim\"],\n",
    "    colors=[\"green\", \"red\"],\n",
    "    autopct= \"%.2f %%\"\n",
    ")\n",
    "\n",
    "plt.title(\"Cliente tem empréstimo?\", fontdict={\"fontweight\":\"bold\"})\n",
    "\n",
    "plt.show()"
   ]
  },
  {
   "cell_type": "code",
   "execution_count": 145,
   "id": "6a27fc88-58ba-48bf-9f1b-c544c623d58c",
   "metadata": {},
   "outputs": [
    {
     "data": {
      "text/html": [
       "<div>\n",
       "<style scoped>\n",
       "    .dataframe tbody tr th:only-of-type {\n",
       "        vertical-align: middle;\n",
       "    }\n",
       "\n",
       "    .dataframe tbody tr th {\n",
       "        vertical-align: top;\n",
       "    }\n",
       "\n",
       "    .dataframe thead th {\n",
       "        text-align: right;\n",
       "    }\n",
       "</style>\n",
       "<table border=\"1\" class=\"dataframe\">\n",
       "  <thead>\n",
       "    <tr style=\"text-align: right;\">\n",
       "      <th></th>\n",
       "      <th>freq_absoluta</th>\n",
       "      <th>freq_relativa</th>\n",
       "      <th>freq_acumulada</th>\n",
       "    </tr>\n",
       "    <tr>\n",
       "      <th>Tem_Emprestimo?</th>\n",
       "      <th></th>\n",
       "      <th></th>\n",
       "      <th></th>\n",
       "    </tr>\n",
       "  </thead>\n",
       "  <tbody>\n",
       "    <tr>\n",
       "      <th>Não</th>\n",
       "      <td>8557</td>\n",
       "      <td>0.883622</td>\n",
       "      <td>0.883622</td>\n",
       "    </tr>\n",
       "    <tr>\n",
       "      <th>Sim</th>\n",
       "      <td>1127</td>\n",
       "      <td>0.116378</td>\n",
       "      <td>1.000000</td>\n",
       "    </tr>\n",
       "  </tbody>\n",
       "</table>\n",
       "</div>"
      ],
      "text/plain": [
       "                 freq_absoluta  freq_relativa  freq_acumulada\n",
       "Tem_Emprestimo?                                              \n",
       "Não                       8557       0.883622        0.883622\n",
       "Sim                       1127       0.116378        1.000000"
      ]
     },
     "execution_count": 145,
     "metadata": {},
     "output_type": "execute_result"
    }
   ],
   "source": [
    "df_tem_emprestimo"
   ]
  },
  {
   "cell_type": "code",
   "execution_count": 194,
   "id": "7893fd43-a07b-4a8f-aa68-3547c7b4a260",
   "metadata": {},
   "outputs": [],
   "source": [
    "#INSIGHTS\n",
    "#A base, majoritariamente, NÃO possui emprestimo (88,36%)\n",
    "#Isso é bom porque eles tem mais dinheiro para investir?\n",
    "#Isso é bom para argumentar que eles podem pegar algum emprestimo para financiar algum sonho/projeto e pagar com rendimento do investimento?\n",
    "#Qual a meta?\n",
    "#Qual o benchmark?"
   ]
  },
  {
   "cell_type": "code",
   "execution_count": null,
   "id": "6c73944f-f4c4-4053-85e4-046eab25268f",
   "metadata": {},
   "outputs": [],
   "source": []
  },
  {
   "cell_type": "code",
   "execution_count": null,
   "id": "90687b91-5bf2-4e63-a247-11976fa7a879",
   "metadata": {},
   "outputs": [],
   "source": []
  },
  {
   "cell_type": "code",
   "execution_count": 147,
   "id": "3c53541a-22d9-4d75-9255-b4944d478829",
   "metadata": {},
   "outputs": [],
   "source": [
    "#Qte_de_Ligações_Feitas"
   ]
  },
  {
   "cell_type": "code",
   "execution_count": 148,
   "id": "7d4f40b3-c548-4a0b-9eb2-0840ced07074",
   "metadata": {},
   "outputs": [],
   "source": [
    "#Feature Engineering de Qte_de_Ligações_Feitas. Para isso, calcular qtd de classes via Sturges bem como os intervalos das mesmas"
   ]
  },
  {
   "cell_type": "code",
   "execution_count": 149,
   "id": "9730f546-2671-4800-9503-1f0c6d850d70",
   "metadata": {},
   "outputs": [],
   "source": [
    "#maior_valor (63)\n",
    "df[\"Qte_de_Ligações_Feitas\"].max()\n",
    "#menor_valor (1)\n",
    "df[\"Qte_de_Ligações_Feitas\"].min()\n",
    "#qtd_dados (9684)\n",
    "df[\"Qte_de_Ligações_Feitas\"].shape\n",
    "\n",
    "#**IMPORTANTE**. Intervalos, segundo Sturges, ficam com pouca granularidade. \n",
    "#Vou criar intervalos com amplitude = 3 para trazer mais insights para análise\n",
    "delimitador1 = [0, 4, 7, 10, 13, 16, 19, float(\"inf\")]\n",
    "rotulos1 = [\"1-4\",\n",
    "\"4-7\",\n",
    "\"7-10\",\n",
    "\"10-13\",\n",
    "\"13-16\",\n",
    "\"16-19\",\n",
    "\"20+\"]"
   ]
  },
  {
   "cell_type": "code",
   "execution_count": 150,
   "id": "f1f7e4aa-11b4-48c5-8e39-abaa2a79f168",
   "metadata": {},
   "outputs": [],
   "source": [
    "df[\"fx_qtd_ligacoes_feitas\"] = pd.cut(\n",
    "    df[\"Qte_de_Ligações_Feitas\"],\n",
    "    bins=delimitador1,\n",
    "    labels=rotulos1,\n",
    "    right=False\n",
    ")"
   ]
  },
  {
   "cell_type": "code",
   "execution_count": 151,
   "id": "0c0c11f4-184a-42fb-a398-b8f95beacf83",
   "metadata": {},
   "outputs": [],
   "source": [
    "#Criando df_ligacoes_feitas + freq_absoluta"
   ]
  },
  {
   "cell_type": "code",
   "execution_count": 152,
   "id": "e3db8aee-2058-4240-994b-4c5f204a6686",
   "metadata": {},
   "outputs": [],
   "source": [
    "df_ligacoes_feitas = df[\"fx_qtd_ligacoes_feitas\"].value_counts().to_frame(\"freq_absoluta\")"
   ]
  },
  {
   "cell_type": "code",
   "execution_count": 153,
   "id": "c596bf42-e13f-4291-843b-b9adfe1877da",
   "metadata": {},
   "outputs": [],
   "source": [
    "df_ligacoes_feitas = df_ligacoes_feitas.reindex(\n",
    "    index=rotulos1\n",
    ")"
   ]
  },
  {
   "cell_type": "code",
   "execution_count": 154,
   "id": "b30fcdc5-1e29-484a-88d5-bb33f53062f1",
   "metadata": {},
   "outputs": [],
   "source": [
    "#Calculando freq_relativa e criando coluna"
   ]
  },
  {
   "cell_type": "code",
   "execution_count": 155,
   "id": "1a7cf99e-58df-45ed-a9ac-5f4e373cc31a",
   "metadata": {},
   "outputs": [],
   "source": [
    "df_ligacoes_feitas[\"freq_relativa\"] = df[\"fx_qtd_ligacoes_feitas\"].value_counts(1).to_frame()"
   ]
  },
  {
   "cell_type": "code",
   "execution_count": 156,
   "id": "794b227e-d396-4a40-a03d-51508c113671",
   "metadata": {},
   "outputs": [],
   "source": [
    "#Calculando freq_acumulada e criando coluna"
   ]
  },
  {
   "cell_type": "code",
   "execution_count": 157,
   "id": "bfda2c29-372e-4bc0-b10d-beaf461ef7fb",
   "metadata": {},
   "outputs": [],
   "source": [
    "df_ligacoes_feitas[\"freq_acumulada\"] = df_ligacoes_feitas[\"freq_relativa\"].cumsum().to_frame()"
   ]
  },
  {
   "cell_type": "code",
   "execution_count": 158,
   "id": "1105b9f3-29fa-4c68-bbd6-cc3039619a7c",
   "metadata": {},
   "outputs": [],
   "source": [
    "#DataViz dos dados referentes à variável: \"fx_qtd_ligacoes_feitas\""
   ]
  },
  {
   "cell_type": "code",
   "execution_count": 159,
   "id": "a15dd705-12e6-43d9-95ad-8fe6a1147897",
   "metadata": {},
   "outputs": [
    {
     "data": {
      "image/png": "[encoded data removed]",
      "text/plain": [
       "<Figure size 500x500 with 1 Axes>"
      ]
     },
     "metadata": {},
     "output_type": "display_data"
    }
   ],
   "source": [
    "sns.displot(\n",
    "    df[\"fx_qtd_ligacoes_feitas\"]\n",
    ")\n",
    "\n",
    "plt.title(\"Distribuição da Qtd de ligações feitas p/ cliente\",  fontdict={\"fontweight\":\"bold\", \"fontsize\":10})\n",
    "plt.xlabel(\"Qtd Ligações Feitas\", fontdict={\"fontweight\":\"bold\"})\n",
    "plt.ylabel(\"Frequência\", fontdict={\"fontweight\":\"bold\"});"
   ]
  },
  {
   "cell_type": "code",
   "execution_count": 160,
   "id": "82abd83c-c3a8-438c-b5c3-44772e2b92c1",
   "metadata": {},
   "outputs": [
    {
     "data": {
      "text/html": [
       "<div>\n",
       "<style scoped>\n",
       "    .dataframe tbody tr th:only-of-type {\n",
       "        vertical-align: middle;\n",
       "    }\n",
       "\n",
       "    .dataframe tbody tr th {\n",
       "        vertical-align: top;\n",
       "    }\n",
       "\n",
       "    .dataframe thead th {\n",
       "        text-align: right;\n",
       "    }\n",
       "</style>\n",
       "<table border=\"1\" class=\"dataframe\">\n",
       "  <thead>\n",
       "    <tr style=\"text-align: right;\">\n",
       "      <th></th>\n",
       "      <th>freq_absoluta</th>\n",
       "      <th>freq_relativa</th>\n",
       "      <th>freq_acumulada</th>\n",
       "    </tr>\n",
       "    <tr>\n",
       "      <th>fx_qtd_ligacoes_feitas</th>\n",
       "      <th></th>\n",
       "      <th></th>\n",
       "      <th></th>\n",
       "    </tr>\n",
       "  </thead>\n",
       "  <tbody>\n",
       "    <tr>\n",
       "      <th>1-4</th>\n",
       "      <td>7982</td>\n",
       "      <td>0.824246</td>\n",
       "      <td>0.824246</td>\n",
       "    </tr>\n",
       "    <tr>\n",
       "      <th>4-7</th>\n",
       "      <td>1213</td>\n",
       "      <td>0.125258</td>\n",
       "      <td>0.949504</td>\n",
       "    </tr>\n",
       "    <tr>\n",
       "      <th>7-10</th>\n",
       "      <td>279</td>\n",
       "      <td>0.028810</td>\n",
       "      <td>0.978315</td>\n",
       "    </tr>\n",
       "    <tr>\n",
       "      <th>10-13</th>\n",
       "      <td>99</td>\n",
       "      <td>0.010223</td>\n",
       "      <td>0.988538</td>\n",
       "    </tr>\n",
       "    <tr>\n",
       "      <th>13-16</th>\n",
       "      <td>46</td>\n",
       "      <td>0.004750</td>\n",
       "      <td>0.993288</td>\n",
       "    </tr>\n",
       "    <tr>\n",
       "      <th>16-19</th>\n",
       "      <td>28</td>\n",
       "      <td>0.002891</td>\n",
       "      <td>0.996179</td>\n",
       "    </tr>\n",
       "    <tr>\n",
       "      <th>20+</th>\n",
       "      <td>37</td>\n",
       "      <td>0.003821</td>\n",
       "      <td>1.000000</td>\n",
       "    </tr>\n",
       "  </tbody>\n",
       "</table>\n",
       "</div>"
      ],
      "text/plain": [
       "                        freq_absoluta  freq_relativa  freq_acumulada\n",
       "fx_qtd_ligacoes_feitas                                              \n",
       "1-4                              7982       0.824246        0.824246\n",
       "4-7                              1213       0.125258        0.949504\n",
       "7-10                              279       0.028810        0.978315\n",
       "10-13                              99       0.010223        0.988538\n",
       "13-16                              46       0.004750        0.993288\n",
       "16-19                              28       0.002891        0.996179\n",
       "20+                                37       0.003821        1.000000"
      ]
     },
     "execution_count": 160,
     "metadata": {},
     "output_type": "execute_result"
    }
   ],
   "source": [
    "df_ligacoes_feitas"
   ]
  },
  {
   "cell_type": "code",
   "execution_count": 196,
   "id": "2f0b5d04-0daf-4d7a-b770-09b93a96e723",
   "metadata": {},
   "outputs": [],
   "source": [
    "#INSIGHTS:\n",
    "#Realizar até 4 ligações foi suficiente para atingir 82,42% da base; investir em mais ligações do que isso só consegue atingir 17,58% da base.\n",
    "#Qual a meta?\n",
    "#Qual benchmark?"
   ]
  },
  {
   "cell_type": "code",
   "execution_count": null,
   "id": "d0c711a4-2025-43ac-8e1d-c37b6e19e86f",
   "metadata": {},
   "outputs": [],
   "source": []
  }
 ],
 "metadata": {
  "kernelspec": {
   "display_name": "Python 3 (ipykernel)",
   "language": "python",
   "name": "python3"
  },
  "language_info": {
   "codemirror_mode": {
    "name": "ipython",
    "version": 3
   },
   "file_extension": ".py",
   "mimetype": "text/x-python",
   "name": "python",
   "nbconvert_exporter": "python",
   "pygments_lexer": "ipython3",
   "version": "3.12.1"
  }
 },
 "nbformat": 4,
 "nbformat_minor": 5
}
